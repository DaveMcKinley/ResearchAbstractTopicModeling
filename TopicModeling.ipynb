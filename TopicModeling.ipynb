{
 "cells": [
  {
   "cell_type": "markdown",
   "id": "d16b52ab",
   "metadata": {},
   "source": [
    "# Research Abstract Topic Modeling"
   ]
  },
  {
   "cell_type": "markdown",
   "id": "826bff78",
   "metadata": {},
   "source": [
    "## Business Overview\n",
    "\n",
    "The advancement of technology, researchers now have access to hundreds of thousands of research articles across several different fields and topics. While it may be fascinating to an inqusitive mind, the glut of information can be overwhelming. A researcher can be bogged down with the massive amount of information at their finger tips. While papers do have abstracts to help save some time, the sheer number of abstracts to read can still take valuable time away from projects.<br>\n",
    "<br>\n",
    "For this poject, I will work with SpaCy and gensim to develop an unsupervised topic model. This model is designed to help researchers parse through the massive amount of articles even faster than reading through just as many abstracts to determine what is worth their valuable time. The model will be able to identify what words define the article's topic. I will also take a look at how to determine how to decide on the optimal number of topics and a way to visualize them.\n",
    "\n",
    "## Data Understanding\n",
    "\n",
    "The dataset contains almost 9000 articles containing 6 different topics. In topic modeling, we typically do not know the number of topics in a corpus. Because this is exploratory I wanted to to have some baseline number to compare to the models output. \n",
    "\n",
    "The data can be found at: https://www.kaggle.com/blessondensil294/topic-modeling-for-research-articles"
   ]
  },
  {
   "cell_type": "code",
   "execution_count": 71,
   "id": "b01800c8",
   "metadata": {},
   "outputs": [],
   "source": [
    "#install necessary libraries\n",
    "# !pip install pyLDAvis -qq\n",
    "# !pip install -qq -U gensim\n",
    "# !pip install spacy -qq\n",
    "# !pip install matplotlib -qq\n",
    "# !pip install seaborn -qq\n",
    "# !python -m spacy download en_core_web_md -qq"
   ]
  },
  {
   "cell_type": "code",
   "execution_count": 72,
   "id": "0fd804a4",
   "metadata": {},
   "outputs": [],
   "source": [
    "import pandas as pd\n",
    "import matplotlib.pyplot as plt\n",
    "import seaborn as sns\n",
    "sns.set()\n",
    "import spacy\n",
    "import pyLDAvis.gensim_models\n",
    "pyLDAvis.enable_notebook()# Visualise inside a notebook\n",
    "import en_core_web_md\n",
    "from gensim.corpora.dictionary import Dictionary\n",
    "from gensim.models import LdaMulticore\n",
    "from gensim.models import CoherenceModel"
   ]
  },
  {
   "cell_type": "code",
   "execution_count": 73,
   "id": "4efab1f3",
   "metadata": {},
   "outputs": [
    {
     "data": {
      "text/html": [
       "<div>\n",
       "<style scoped>\n",
       "    .dataframe tbody tr th:only-of-type {\n",
       "        vertical-align: middle;\n",
       "    }\n",
       "\n",
       "    .dataframe tbody tr th {\n",
       "        vertical-align: top;\n",
       "    }\n",
       "\n",
       "    .dataframe thead th {\n",
       "        text-align: right;\n",
       "    }\n",
       "</style>\n",
       "<table border=\"1\" class=\"dataframe\">\n",
       "  <thead>\n",
       "    <tr style=\"text-align: right;\">\n",
       "      <th></th>\n",
       "      <th>ID</th>\n",
       "      <th>TITLE</th>\n",
       "      <th>ABSTRACT</th>\n",
       "    </tr>\n",
       "  </thead>\n",
       "  <tbody>\n",
       "    <tr>\n",
       "      <th>0</th>\n",
       "      <td>20973</td>\n",
       "      <td>Closed-form Marginal Likelihood in Gamma-Poiss...</td>\n",
       "      <td>We present novel understandings of the Gamma...</td>\n",
       "    </tr>\n",
       "    <tr>\n",
       "      <th>1</th>\n",
       "      <td>20974</td>\n",
       "      <td>Laboratory mid-IR spectra of equilibrated and ...</td>\n",
       "      <td>Meteorites contain minerals from Solar Syste...</td>\n",
       "    </tr>\n",
       "    <tr>\n",
       "      <th>2</th>\n",
       "      <td>20975</td>\n",
       "      <td>Case For Static AMSDU Aggregation in WLANs</td>\n",
       "      <td>Frame aggregation is a mechanism by which mu...</td>\n",
       "    </tr>\n",
       "    <tr>\n",
       "      <th>3</th>\n",
       "      <td>20976</td>\n",
       "      <td>The $Gaia$-ESO Survey: the inner disk intermed...</td>\n",
       "      <td>Milky Way open clusters are very diverse in ...</td>\n",
       "    </tr>\n",
       "    <tr>\n",
       "      <th>4</th>\n",
       "      <td>20977</td>\n",
       "      <td>Witness-Functions versus Interpretation-Functi...</td>\n",
       "      <td>Proving that a cryptographic protocol is cor...</td>\n",
       "    </tr>\n",
       "  </tbody>\n",
       "</table>\n",
       "</div>"
      ],
      "text/plain": [
       "      ID                                              TITLE  \\\n",
       "0  20973  Closed-form Marginal Likelihood in Gamma-Poiss...   \n",
       "1  20974  Laboratory mid-IR spectra of equilibrated and ...   \n",
       "2  20975         Case For Static AMSDU Aggregation in WLANs   \n",
       "3  20976  The $Gaia$-ESO Survey: the inner disk intermed...   \n",
       "4  20977  Witness-Functions versus Interpretation-Functi...   \n",
       "\n",
       "                                            ABSTRACT  \n",
       "0    We present novel understandings of the Gamma...  \n",
       "1    Meteorites contain minerals from Solar Syste...  \n",
       "2    Frame aggregation is a mechanism by which mu...  \n",
       "3    Milky Way open clusters are very diverse in ...  \n",
       "4    Proving that a cryptographic protocol is cor...  "
      ]
     },
     "execution_count": 73,
     "metadata": {},
     "output_type": "execute_result"
    }
   ],
   "source": [
    "df = pd.read_csv(\"Data/test.csv\")\n",
    "df.head()"
   ]
  },
  {
   "cell_type": "code",
   "execution_count": 74,
   "id": "5170a0d3",
   "metadata": {},
   "outputs": [
    {
     "name": "stdout",
     "output_type": "stream",
     "text": [
      "<class 'pandas.core.frame.DataFrame'>\n",
      "RangeIndex: 8989 entries, 0 to 8988\n",
      "Data columns (total 3 columns):\n",
      " #   Column    Non-Null Count  Dtype \n",
      "---  ------    --------------  ----- \n",
      " 0   ID        8989 non-null   int64 \n",
      " 1   TITLE     8989 non-null   object\n",
      " 2   ABSTRACT  8989 non-null   object\n",
      "dtypes: int64(1), object(2)\n",
      "memory usage: 210.8+ KB\n"
     ]
    }
   ],
   "source": [
    "df.info()"
   ]
  },
  {
   "cell_type": "code",
   "execution_count": 75,
   "id": "607d5c0d",
   "metadata": {},
   "outputs": [
    {
     "data": {
      "text/plain": [
       "Index(['ID', 'TITLE', 'ABSTRACT'], dtype='object')"
      ]
     },
     "execution_count": 75,
     "metadata": {},
     "output_type": "execute_result"
    }
   ],
   "source": [
    "df.columns"
   ]
  },
  {
   "cell_type": "code",
   "execution_count": 76,
   "id": "614f343c",
   "metadata": {},
   "outputs": [
    {
     "data": {
      "text/plain": [
       "'  We present novel understandings of the Gamma-Poisson (GaP) model, a\\nprobabilistic matrix factorization model for count data. We show that GaP can\\nbe rewritten free of the score/activation matrix. This gives us new insights\\nabout the estimation of the topic/dictionary matrix by maximum marginal\\nlikelihood estimation. In particular, this explains the robustness of this\\nestimator to over-specified values of the factorization rank, especially its\\nability to automatically prune irrelevant dictionary columns, as empirically\\nobserved in previous work. The marginalization of the activation matrix leads\\nin turn to a new Monte Carlo Expectation-Maximization algorithm with favorable\\nproperties.\\n'"
      ]
     },
     "execution_count": 76,
     "metadata": {},
     "output_type": "execute_result"
    }
   ],
   "source": [
    "df[\"ABSTRACT\"].iloc[0]"
   ]
  },
  {
   "cell_type": "markdown",
   "id": "60b7cc43",
   "metadata": {},
   "source": [
    "### Preprocessing\n",
    "\n",
    "I will instantiate a pre-trained spaCy model that can be thought as a pipeline to prepare data for modeling. An interesting component of the pipeline is the tagger feature. I will use the tagger feature to remove any unwanted information for analysis. I am using the universal part-of-speech (POS) for the POS tags. They can be found here: https://universaldependencies.org/u/pos/. "
   ]
  },
  {
   "cell_type": "code",
   "execution_count": 77,
   "id": "00345bd8",
   "metadata": {},
   "outputs": [],
   "source": [
    "# spaCy model\n",
    "nlp = en_core_web_md.load()"
   ]
  },
  {
   "cell_type": "code",
   "execution_count": 78,
   "id": "30d8b8ac",
   "metadata": {},
   "outputs": [],
   "source": [
    "# tags to remove from text\n",
    "remove = ['ADV','PRON','CCONJ','PUNCT','PART','DET','ADP','SPACE', 'NUM', 'SYM']"
   ]
  },
  {
   "cell_type": "code",
   "execution_count": 79,
   "id": "2b72c7e2",
   "metadata": {},
   "outputs": [],
   "source": [
    "# for all abstarcts in the corpus, we convert each word to a token, \n",
    "# keep all tokens with letters and remove any stop words and tags we assigned to the remove variable\n",
    "# then lemmatize and lowercase each token and creates a list of tokens for each abstract.\n",
    "tokens = [[token.lemma_.lower() for token in abstract if token.pos_ not in remove and not token.is_stop and token.is_alpha] \n",
    "          for abstract in nlp.pipe(df[\"ABSTRACT\"])]"
   ]
  },
  {
   "cell_type": "code",
   "execution_count": 80,
   "id": "f7ed95d6",
   "metadata": {},
   "outputs": [
    {
     "data": {
      "text/html": [
       "<div>\n",
       "<style scoped>\n",
       "    .dataframe tbody tr th:only-of-type {\n",
       "        vertical-align: middle;\n",
       "    }\n",
       "\n",
       "    .dataframe tbody tr th {\n",
       "        vertical-align: top;\n",
       "    }\n",
       "\n",
       "    .dataframe thead th {\n",
       "        text-align: right;\n",
       "    }\n",
       "</style>\n",
       "<table border=\"1\" class=\"dataframe\">\n",
       "  <thead>\n",
       "    <tr style=\"text-align: right;\">\n",
       "      <th></th>\n",
       "      <th>ID</th>\n",
       "      <th>TITLE</th>\n",
       "      <th>ABSTRACT</th>\n",
       "      <th>cleaned</th>\n",
       "    </tr>\n",
       "  </thead>\n",
       "  <tbody>\n",
       "    <tr>\n",
       "      <th>0</th>\n",
       "      <td>20973</td>\n",
       "      <td>Closed-form Marginal Likelihood in Gamma-Poiss...</td>\n",
       "      <td>We present novel understandings of the Gamma...</td>\n",
       "      <td>[present, novel, understanding, gamma, poisson...</td>\n",
       "    </tr>\n",
       "    <tr>\n",
       "      <th>1</th>\n",
       "      <td>20974</td>\n",
       "      <td>Laboratory mid-IR spectra of equilibrated and ...</td>\n",
       "      <td>Meteorites contain minerals from Solar Syste...</td>\n",
       "      <td>[meteorites, contain, mineral, solar, system, ...</td>\n",
       "    </tr>\n",
       "    <tr>\n",
       "      <th>2</th>\n",
       "      <td>20975</td>\n",
       "      <td>Case For Static AMSDU Aggregation in WLANs</td>\n",
       "      <td>Frame aggregation is a mechanism by which mu...</td>\n",
       "      <td>[frame, aggregation, mechanism, multiple, fram...</td>\n",
       "    </tr>\n",
       "    <tr>\n",
       "      <th>3</th>\n",
       "      <td>20976</td>\n",
       "      <td>The $Gaia$-ESO Survey: the inner disk intermed...</td>\n",
       "      <td>Milky Way open clusters are very diverse in ...</td>\n",
       "      <td>[milky, way, open, cluster, diverse, term, age...</td>\n",
       "    </tr>\n",
       "    <tr>\n",
       "      <th>4</th>\n",
       "      <td>20977</td>\n",
       "      <td>Witness-Functions versus Interpretation-Functi...</td>\n",
       "      <td>Proving that a cryptographic protocol is cor...</td>\n",
       "      <td>[prove, cryptographic, protocol, correct, secr...</td>\n",
       "    </tr>\n",
       "  </tbody>\n",
       "</table>\n",
       "</div>"
      ],
      "text/plain": [
       "      ID                                              TITLE  \\\n",
       "0  20973  Closed-form Marginal Likelihood in Gamma-Poiss...   \n",
       "1  20974  Laboratory mid-IR spectra of equilibrated and ...   \n",
       "2  20975         Case For Static AMSDU Aggregation in WLANs   \n",
       "3  20976  The $Gaia$-ESO Survey: the inner disk intermed...   \n",
       "4  20977  Witness-Functions versus Interpretation-Functi...   \n",
       "\n",
       "                                            ABSTRACT  \\\n",
       "0    We present novel understandings of the Gamma...   \n",
       "1    Meteorites contain minerals from Solar Syste...   \n",
       "2    Frame aggregation is a mechanism by which mu...   \n",
       "3    Milky Way open clusters are very diverse in ...   \n",
       "4    Proving that a cryptographic protocol is cor...   \n",
       "\n",
       "                                             cleaned  \n",
       "0  [present, novel, understanding, gamma, poisson...  \n",
       "1  [meteorites, contain, mineral, solar, system, ...  \n",
       "2  [frame, aggregation, mechanism, multiple, fram...  \n",
       "3  [milky, way, open, cluster, diverse, term, age...  \n",
       "4  [prove, cryptographic, protocol, correct, secr...  "
      ]
     },
     "execution_count": 80,
     "metadata": {},
     "output_type": "execute_result"
    }
   ],
   "source": [
    "#adding on a new column with the list of tokens for each abstract\n",
    "df[\"cleaned\"] = tokens\n",
    "df.head()"
   ]
  },
  {
   "cell_type": "code",
   "execution_count": 81,
   "id": "50dc6697",
   "metadata": {},
   "outputs": [
    {
     "data": {
      "text/plain": [
       "'  We present novel understandings of the Gamma-Poisson (GaP) model, a\\nprobabilistic matrix factorization model for count data. We show that GaP can\\nbe rewritten free of the score/activation matrix. This gives us new insights\\nabout the estimation of the topic/dictionary matrix by maximum marginal\\nlikelihood estimation. In particular, this explains the robustness of this\\nestimator to over-specified values of the factorization rank, especially its\\nability to automatically prune irrelevant dictionary columns, as empirically\\nobserved in previous work. The marginalization of the activation matrix leads\\nin turn to a new Monte Carlo Expectation-Maximization algorithm with favorable\\nproperties.\\n'"
      ]
     },
     "execution_count": 81,
     "metadata": {},
     "output_type": "execute_result"
    }
   ],
   "source": [
    "#comparison bewteen cleaned and uncleaned\n",
    "df[\"ABSTRACT\"].iloc[0]"
   ]
  },
  {
   "cell_type": "code",
   "execution_count": 82,
   "id": "34db23a2",
   "metadata": {},
   "outputs": [
    {
     "data": {
      "text/plain": [
       "\"['present', 'novel', 'understanding', 'gamma', 'poisson', 'gap', 'model', 'probabilistic', 'matrix', 'factorization', 'model', 'count', 'datum', 'gap', 'rewrite', 'free', 'score', 'activation', 'matrix', 'give', 'new', 'insight', 'estimation', 'topic', 'dictionary', 'matrix', 'maximum', 'marginal', 'likelihood', 'estimation', 'particular', 'explain', 'robustness', 'estimator', 'specify', 'value', 'factorization', 'rank', 'ability', 'prune', 'irrelevant', 'dictionary', 'column', 'observe', 'previous', 'work', 'marginalization', 'activation', 'matrix', 'lead', 'turn', 'new', 'monte', 'carlo', 'expectation', 'maximization', 'algorithm', 'favorable', 'property']\""
      ]
     },
     "execution_count": 82,
     "metadata": {},
     "output_type": "execute_result"
    }
   ],
   "source": [
    "str(df[\"cleaned\"].iloc[0])"
   ]
  },
  {
   "cell_type": "code",
   "execution_count": 83,
   "id": "2ac9a879",
   "metadata": {},
   "outputs": [],
   "source": [
    "#maps all words to the their unique id\n",
    "dictionary = Dictionary(df[\"cleaned\"])"
   ]
  },
  {
   "cell_type": "code",
   "execution_count": 84,
   "id": "a0a07a77",
   "metadata": {},
   "outputs": [
    {
     "name": "stdout",
     "output_type": "stream",
     "text": [
      "26176\n"
     ]
    }
   ],
   "source": [
    "#how many unqiue words in tokens\n",
    "print(len(dictionary.token2id))"
   ]
  },
  {
   "cell_type": "code",
   "execution_count": 85,
   "id": "3ccbcbfa",
   "metadata": {},
   "outputs": [
    {
     "name": "stdout",
     "output_type": "stream",
     "text": [
      "[('ability', 0), ('activation', 1), ('algorithm', 2), ('carlo', 3), ('column', 4), ('count', 5), ('datum', 6), ('dictionary', 7), ('estimation', 8), ('estimator', 9), ('expectation', 10), ('explain', 11), ('factorization', 12), ('favorable', 13), ('free', 14), ('gamma', 15), ('gap', 16), ('give', 17), ('insight', 18), ('irrelevant', 19)]\n"
     ]
    }
   ],
   "source": [
    "#takes a look at the first 20 unique words\n",
    "items = dictionary.token2id.items()\n",
    "first_twenty = list(items)[:20]\n",
    "print(first_twenty)"
   ]
  },
  {
   "cell_type": "markdown",
   "id": "2d183d35",
   "metadata": {},
   "source": [
    "26,000 tokens is alot of information to process. Therefore, I will condense the number of words by removing words that appear in less than 25 abstracts and appear in no more than 50% of the abstracts and I will keep the top 1000 words."
   ]
  },
  {
   "cell_type": "code",
   "execution_count": 86,
   "id": "ceac9c31",
   "metadata": {},
   "outputs": [],
   "source": [
    "dictionary.filter_extremes(no_below=10, no_above=0.5, keep_n=1000)"
   ]
  },
  {
   "cell_type": "code",
   "execution_count": 87,
   "id": "a39b083d",
   "metadata": {},
   "outputs": [],
   "source": [
    "#builds bag of words\n",
    "corpus = [dictionary.doc2bow(abstract) for abstract in df[\"cleaned\"]]"
   ]
  },
  {
   "cell_type": "markdown",
   "id": "f2e12dd0",
   "metadata": {},
   "source": [
    "### Best number of topics?"
   ]
  },
  {
   "cell_type": "code",
   "execution_count": 88,
   "id": "77836d92",
   "metadata": {},
   "outputs": [
    {
     "data": {
      "image/png": "[encoded data removed]",
      "text/plain": [
       "<Figure size 432x288 with 1 Axes>"
      ]
     },
     "metadata": {},
     "output_type": "display_data"
    }
   ],
   "source": [
    "topics = []\n",
    "score = []\n",
    "for i in range(1,10,1):\n",
    "   lda_model = LdaMulticore(corpus=corpus, \n",
    "                            id2word=dictionary, \n",
    "                            iterations=100, \n",
    "                            num_topics=i, \n",
    "                            workers = 4, \n",
    "                            passes=10, \n",
    "                            random_state=42)\n",
    "   cm = CoherenceModel(model=lda_model, \n",
    "                       corpus=corpus, \n",
    "                       dictionary=dictionary, \n",
    "                       coherence='u_mass')\n",
    "   topics.append(i)\n",
    "   score.append(cm.get_coherence())\n",
    "\n",
    "plt.plot(topics, score)\n",
    "plt.xlabel('Number of Topics')\n",
    "plt.ylabel('Coherence Score')\n",
    "plt.show()"
   ]
  },
  {
   "cell_type": "code",
   "execution_count": 89,
   "id": "791e3735",
   "metadata": {},
   "outputs": [
    {
     "data": {
      "image/png": "[encoded data removed]",
      "text/plain": [
       "<Figure size 432x288 with 1 Axes>"
      ]
     },
     "metadata": {},
     "output_type": "display_data"
    }
   ],
   "source": [
    "topics = []\n",
    "score = []\n",
    "for i in range(1,10,1):\n",
    "   lda_model = LdaMulticore(corpus=corpus, \n",
    "                            id2word=dictionary, \n",
    "                            iterations=100, \n",
    "                            num_topics=i, \n",
    "                            workers = 4, \n",
    "                            passes=10, \n",
    "                            random_state=42)\n",
    "   cm = CoherenceModel(model=lda_model, \n",
    "                       texts = df[\"cleaned\"], \n",
    "                       corpus=corpus, \n",
    "                       dictionary=dictionary, \n",
    "                       coherence='c_v')\n",
    "   topics.append(i)\n",
    "   score.append(cm.get_coherence())\n",
    "plt.plot(topics, score)\n",
    "plt.xlabel('Number of Topics')\n",
    "plt.ylabel('Coherence Score')\n",
    "plt.show()"
   ]
  },
  {
   "cell_type": "code",
   "execution_count": 90,
   "id": "108361c4",
   "metadata": {},
   "outputs": [],
   "source": [
    "lda_model = LdaMulticore(corpus=corpus, id2word=dictionary, iterations=100, num_topics=5, workers = 4, passes=10)"
   ]
  },
  {
   "cell_type": "code",
   "execution_count": 91,
   "id": "1b2c5b31",
   "metadata": {},
   "outputs": [
    {
     "data": {
      "text/plain": [
       "[(0,\n",
       "  '0.013*\"system\" + 0.010*\"base\" + 0.009*\"paper\" + 0.008*\"result\" + 0.008*\"object\" + 0.008*\"datum\" + 0.007*\"information\" + 0.007*\"network\" + 0.007*\"new\" + 0.007*\"approach\"'),\n",
       " (1,\n",
       "  '0.025*\"model\" + 0.016*\"system\" + 0.013*\"state\" + 0.012*\"energy\" + 0.012*\"study\" + 0.012*\"phase\" + 0.010*\"quantum\" + 0.009*\"scale\" + 0.009*\"dynamic\" + 0.008*\"interaction\"'),\n",
       " (2,\n",
       "  '0.024*\"model\" + 0.019*\"network\" + 0.016*\"propose\" + 0.015*\"method\" + 0.014*\"datum\" + 0.014*\"algorithm\" + 0.011*\"approach\" + 0.011*\"learn\" + 0.011*\"base\" + 0.010*\"learning\"'),\n",
       " (3,\n",
       "  '0.011*\"result\" + 0.010*\"rate\" + 0.009*\"model\" + 0.009*\"method\" + 0.009*\"field\" + 0.008*\"problem\" + 0.008*\"function\" + 0.008*\"test\" + 0.007*\"star\" + 0.007*\"high\"'),\n",
       " (4,\n",
       "  '0.013*\"result\" + 0.013*\"space\" + 0.012*\"function\" + 0.011*\"graph\" + 0.011*\"prove\" + 0.011*\"group\" + 0.010*\"problem\" + 0.009*\"equation\" + 0.009*\"solution\" + 0.009*\"study\"')]"
      ]
     },
     "execution_count": 91,
     "metadata": {},
     "output_type": "execute_result"
    }
   ],
   "source": [
    "lda_model.print_topics(-1)"
   ]
  },
  {
   "cell_type": "code",
   "execution_count": 92,
   "id": "69d27ce6",
   "metadata": {},
   "outputs": [
    {
     "data": {
      "text/plain": [
       "[([(0.023897175, 'model'),\n",
       "   (0.018515777, 'network'),\n",
       "   (0.015608287, 'propose'),\n",
       "   (0.015485318, 'method'),\n",
       "   (0.014441251, 'datum'),\n",
       "   (0.014062619, 'algorithm'),\n",
       "   (0.011172514, 'approach'),\n",
       "   (0.011153318, 'learn'),\n",
       "   (0.010616336, 'base'),\n",
       "   (0.01030026, 'learning')],\n",
       "  -1.2360380487398253),\n",
       " ([(0.013384228, 'system'),\n",
       "   (0.009877656, 'base'),\n",
       "   (0.009155894, 'paper'),\n",
       "   (0.008260507, 'result'),\n",
       "   (0.008184012, 'object'),\n",
       "   (0.008145867, 'datum'),\n",
       "   (0.0072838264, 'information'),\n",
       "   (0.0072056716, 'network'),\n",
       "   (0.007105211, 'new'),\n",
       "   (0.006651505, 'approach')],\n",
       "  -1.546066091299426),\n",
       " ([(0.012850382, 'result'),\n",
       "   (0.012710334, 'space'),\n",
       "   (0.011556221, 'function'),\n",
       "   (0.011495465, 'graph'),\n",
       "   (0.010628253, 'prove'),\n",
       "   (0.010549573, 'group'),\n",
       "   (0.010306739, 'problem'),\n",
       "   (0.0094059715, 'equation'),\n",
       "   (0.009274215, 'solution'),\n",
       "   (0.009201494, 'study')],\n",
       "  -1.9331745992045666),\n",
       " ([(0.024771938, 'model'),\n",
       "   (0.015620885, 'system'),\n",
       "   (0.012863683, 'state'),\n",
       "   (0.012202228, 'energy'),\n",
       "   (0.011962441, 'study'),\n",
       "   (0.011651687, 'phase'),\n",
       "   (0.009699293, 'quantum'),\n",
       "   (0.008657883, 'scale'),\n",
       "   (0.008552579, 'dynamic'),\n",
       "   (0.008359336, 'interaction')],\n",
       "  -2.010355662222773),\n",
       " ([(0.011330253, 'result'),\n",
       "   (0.00981481, 'rate'),\n",
       "   (0.00929502, 'model'),\n",
       "   (0.009272632, 'method'),\n",
       "   (0.008736579, 'field'),\n",
       "   (0.008353168, 'problem'),\n",
       "   (0.007972417, 'function'),\n",
       "   (0.007944779, 'test'),\n",
       "   (0.006914938, 'star'),\n",
       "   (0.006907327, 'high')],\n",
       "  -2.116798383882387)]"
      ]
     },
     "execution_count": 92,
     "metadata": {},
     "output_type": "execute_result"
    }
   ],
   "source": [
    "lda_model.top_topics(corpus = corpus, texts = df[\"ABSTRACT\"], dictionary=dictionary, topn= 10)"
   ]
  },
  {
   "cell_type": "code",
   "execution_count": 93,
   "id": "e9e257a8",
   "metadata": {},
   "outputs": [
    {
     "name": "stdout",
     "output_type": "stream",
     "text": [
      "  We consider the problem of learning from noisy data in practical settings\n",
      "where the size of data is too large to store on a single machine. More\n",
      "challenging, the data coming from the wild may contain malicious outliers. To\n",
      "address the scalability and robustness issues, we present an online robust\n",
      "learning (ORL) approach. ORL is simple to implement and has provable robustness\n",
      "guarantee -- in stark contrast to existing online learning approaches that are\n",
      "generally fragile to outliers. We specialize the ORL approach for two concrete\n",
      "cases: online robust principal component analysis and online linear regression.\n",
      "We demonstrate the efficiency and robustness advantages of ORL through\n",
      "comprehensive simulations and predicting image tags on a large-scale data set.\n",
      "We also discuss extension of the ORL to distributed learning and provide\n",
      "experimental evaluations.\n",
      "\n"
     ]
    },
    {
     "data": {
      "text/plain": [
       "[(2, 0.9867615)]"
      ]
     },
     "execution_count": 93,
     "metadata": {},
     "output_type": "execute_result"
    }
   ],
   "source": [
    "i= 1000\n",
    "print(df[\"ABSTRACT\"][i])\n",
    "lda_model[corpus][i]"
   ]
  },
  {
   "cell_type": "code",
   "execution_count": 94,
   "id": "636b186d",
   "metadata": {},
   "outputs": [
    {
     "name": "stderr",
     "output_type": "stream",
     "text": [
      "C:\\Users\\david\\anaconda3\\envs\\topic-modeling\\lib\\site-packages\\pyLDAvis\\_prepare.py:246: FutureWarning: In a future version of pandas all arguments of DataFrame.drop except for the argument 'labels' will be keyword-only\n",
      "  default_term_info = default_term_info.sort_values(\n"
     ]
    },
    {
     "data": {
      "text/html": [
       "\n",
       "<link rel=\"stylesheet\" type=\"text/css\" href=\"https://cdn.jsdelivr.net/gh/bmabey/pyLDAvis@3.3.1/pyLDAvis/js/ldavis.v1.0.0.css\">\n",
       "\n",
       "\n",
       "<div id=\"ldavis_el10604416991752957921792102775\"></div>\n",
       "<script type=\"text/javascript\">\n",
       "\n",
       "var ldavis_el10604416991752957921792102775_data = {\"mdsDat\": {\"x\": [-0.11354537103503434, 0.13855472234477625, 0.028847395799265835, -0.09817017574211652, 0.04431342863310893], \"y\": [0.06969445531811448, 0.08161058128260301, -0.11389086196651375, -0.010873928235840668, -0.02654024639836312], \"topics\": [1, 2, 3, 4, 5], \"cluster\": [1, 1, 1, 1, 1], \"Freq\": [33.586187958853905, 18.8760568517375, 17.513787468257817, 15.177968889652135, 14.84599883149864]}, \"tinfo\": {\"Term\": [\"model\", \"learn\", \"network\", \"learning\", \"graph\", \"neural\", \"phase\", \"energy\", \"task\", \"system\", \"quantum\", \"prove\", \"equation\", \"group\", \"spin\", \"space\", \"interaction\", \"test\", \"rate\", \"transition\", \"star\", \"algorithm\", \"deep\", \"field\", \"state\", \"estimator\", \"object\", \"magnetic\", \"effect\", \"cell\", \"recurrent\", \"generative\", \"neural\", \"adversarial\", \"reinforcement\", \"learning\", \"train\", \"training\", \"learn\", \"task\", \"recognition\", \"supervised\", \"unsupervised\", \"deep\", \"cnn\", \"convolutional\", \"classifier\", \"update\", \"agent\", \"machine\", \"label\", \"networks\", \"classification\", \"dataset\", \"predictive\", \"outperform\", \"latent\", \"prior\", \"policy\", \"vision\", \"art\", \"word\", \"network\", \"architecture\", \"feature\", \"data\", \"algorithm\", \"propose\", \"prediction\", \"performance\", \"datum\", \"inference\", \"model\", \"method\", \"approach\", \"accuracy\", \"user\", \"base\", \"framework\", \"novel\", \"problem\", \"real\", \"demonstrate\", \"paper\", \"information\", \"time\", \"work\", \"result\", \"system\", \"state\", \"algebra\", \"let\", \"algebraic\", \"formula\", \"vertex\", \"singular\", \"closed\", \"operator\", \"manifold\", \"theorem\", \"lie\", \"conjecture\", \"polynomial\", \"proof\", \"combinatorial\", \"regular\", \"inequality\", \"category\", \"integer\", \"invariant\", \"finite\", \"equation\", \"graph\", \"family\", \"group\", \"g\", \"infinite\", \"differential\", \"ideal\", \"prove\", \"boundary\", \"notion\", \"bound\", \"space\", \"metric\", \"solution\", \"existence\", \"construction\", \"class\", \"condition\", \"case\", \"function\", \"give\", \"theory\", \"set\", \"result\", \"number\", \"obtain\", \"problem\", \"define\", \"study\", \"paper\", \"general\", \"matrix\", \"time\", \"property\", \"new\", \"structure\", \"non\", \"order\", \"excitation\", \"liquid\", \"transition\", \"spin\", \"laser\", \"metal\", \"break\", \"charge\", \"electronic\", \"coupling\", \"symmetry\", \"body\", \"electron\", \"fluctuation\", \"phase\", \"interaction\", \"quantum\", \"matter\", \"pressure\", \"energy\", \"dark\", \"couple\", \"diagram\", \"crystal\", \"spectra\", \"activity\", \"grid\", \"hamiltonian\", \"material\", \"spatial\", \"topological\", \"temperature\", \"correlation\", \"dynamic\", \"scale\", \"magnetic\", \"state\", \"density\", \"system\", \"model\", \"effect\", \"study\", \"structure\", \"field\", \"find\", \"order\", \"different\", \"large\", \"time\", \"analysis\", \"theory\", \"parameter\", \"result\", \"high\", \"process\", \"present\", \"scientific\", \"service\", \"ray\", \"technology\", \"hole\", \"software\", \"community\", \"demand\", \"imaging\", \"game\", \"transmission\", \"device\", \"black\", \"science\", \"frame\", \"object\", \"review\", \"reference\", \"communication\", \"research\", \"background\", \"project\", \"beam\", \"future\", \"survey\", \"platform\", \"feedback\", \"capability\", \"match\", \"mobile\", \"x\", \"processing\", \"signal\", \"sensor\", \"detection\", \"code\", \"measurement\", \"node\", \"source\", \"system\", \"information\", \"technique\", \"base\", \"paper\", \"image\", \"control\", \"design\", \"new\", \"analysis\", \"datum\", \"high\", \"result\", \"provide\", \"power\", \"application\", \"network\", \"approach\", \"algorithm\", \"present\", \"method\", \"state\", \"time\", \"study\", \"propose\", \"test\", \"star\", \"galaxy\", \"cell\", \"estimator\", \"gas\", \"concentration\", \"emission\", \"mass\", \"scatter\", \"et\", \"al\", \"wavelength\", \"s\", \"rate\", \"velocity\", \"chemical\", \"ratio\", \"treatment\", \"growth\", \"hypothesis\", \"total\", \"d\", \"atomic\", \"convergence\", \"convex\", \"p\", \"normal\", \"observation\", \"statistic\", \"formation\", \"test\", \"flow\", \"cluster\", \"light\", \"noise\", \"frequency\", \"field\", \"sample\", \"magnetic\", \"effect\", \"distribution\", \"result\", \"function\", \"low\", \"high\", \"observe\", \"problem\", \"method\", \"find\", \"estimate\", \"order\", \"model\", \"parameter\", \"new\", \"value\", \"number\", \"study\", \"propose\", \"property\"], \"Freq\": [7494.0, 1960.0, 4006.0, 1791.0, 1417.0, 1381.0, 1307.0, 1539.0, 1527.0, 3904.0, 1133.0, 1354.0, 1158.0, 1322.0, 840.0, 2037.0, 949.0, 1229.0, 1191.0, 723.0, 536.0, 3373.0, 1227.0, 1934.0, 2659.0, 585.0, 909.0, 840.0, 1177.0, 502.0, 215.9714963843767, 239.146334269359, 1372.1072818490322, 261.11996738395624, 209.14804923418063, 1760.4039611879693, 689.2496378880014, 849.843988718931, 1906.1989790006983, 1483.954919394603, 281.3852765327072, 168.04897116998367, 140.39147655487773, 1168.581136756028, 191.16238889817106, 261.73725289239866, 320.06799768654764, 264.55856103412765, 527.9044768734591, 822.3484507207056, 438.2656676719878, 126.84850110091894, 717.8298474987407, 1053.8878378870256, 192.33162016937587, 357.74370283913754, 287.2767568657896, 312.87555208221545, 445.9705448079859, 131.42352682291832, 563.8429287087354, 402.1785102157574, 3164.5071853454806, 488.7586473394573, 1153.6106151958568, 789.4371152882164, 2403.423779161054, 2667.5919730178844, 776.55189460053, 1268.871438701211, 2468.135276421665, 483.83886691487817, 4084.234857356696, 2646.575495550496, 1909.4798141723381, 597.3256088845102, 748.9665045037995, 1814.4240933387473, 845.4998108651573, 697.1493006848425, 1621.6260022992526, 752.7257284833358, 855.8419545327928, 1194.2251962603411, 882.4424733106547, 1100.941607116225, 878.3045016457448, 1182.4592669042563, 827.8638096919316, 797.8305269062504, 481.30579522988296, 280.31958705071145, 217.31671457156193, 286.2678136243231, 250.48143795196435, 118.46152535131547, 158.8651065097881, 514.4471926700805, 274.31464467234485, 457.1313543813671, 261.00112388447127, 247.73698341871878, 486.020453050074, 347.6730940243436, 146.3463338274646, 163.58693208054066, 165.84449395395956, 310.8361564717149, 204.7290263717493, 257.5107983715794, 625.1222709375587, 903.479638747972, 1104.1835426671191, 301.3972465567902, 1013.3269704201856, 173.64592510293323, 199.0164745420288, 253.15962713446507, 199.57652074970778, 1020.8844855894431, 390.42175965162494, 252.5022963247813, 556.2078716622435, 1220.8763109504678, 381.67683559527734, 890.8239631481376, 277.6455128950542, 275.55563836550465, 655.9571063749138, 655.6113993915138, 810.1787405560468, 1110.0193663879315, 722.4060678283885, 651.2780524826289, 841.955693497782, 1234.32851261582, 778.8664278191969, 637.890751947166, 990.0018353293095, 480.8181645489376, 883.8387945385367, 850.944343437497, 483.3147781719724, 465.5429612633976, 642.6265216442059, 507.2560490755453, 509.04161289716865, 492.8992571614831, 485.10808003320346, 485.29992079550163, 201.6494362939049, 241.47840800480049, 657.0612922387163, 736.4970418225626, 214.3389081187037, 116.59357080278374, 169.8402656399829, 265.2602452555429, 285.32216174403123, 184.63214394252321, 372.49120310044464, 267.36905319004626, 361.16396542462263, 179.89927824254812, 1038.418295076554, 744.9983424044326, 864.4176116731204, 242.72657794690548, 220.7415683959353, 1087.483458755634, 165.92820779868043, 267.25586049430575, 118.33589793145377, 157.78238000704508, 188.79748989391854, 256.8265905376717, 181.07417899883097, 99.72599161359597, 355.19299366108226, 326.0163157553668, 301.6065547345413, 525.0942962056519, 371.1070774218609, 762.2204813721938, 771.6053282390558, 480.50840923761103, 1146.4333846866873, 501.7543980995257, 1392.1600152014141, 2207.717475813954, 582.6682720625432, 1066.1131758061879, 706.7795082588312, 658.188239132514, 614.8623912581755, 618.9228861203725, 599.4641590860512, 581.0690906371849, 666.0725098334419, 507.78770365921724, 444.22628032835144, 476.0913003206026, 597.6217015534772, 488.74742646949767, 432.1973516902635, 418.25143056761254, 213.36259036364106, 208.98683647606026, 343.3903838646113, 258.12817288356297, 197.61064962860237, 268.6698860393293, 308.30134417503183, 170.58477222736082, 212.63306427268896, 300.6907549277853, 181.0466237835926, 299.77864950333293, 195.3722050608779, 181.5222507698772, 154.2225493253767, 632.096450074853, 190.1160853847778, 142.7115454520889, 284.1235641105805, 462.4467113375618, 199.58963840752145, 210.95212236399863, 150.1762762364161, 258.41433312526385, 198.4852429394251, 127.79369177861562, 121.61129623437184, 101.20502111880262, 183.52348426814422, 125.20779260710661, 267.9898126389244, 205.5185304686221, 479.35158310861937, 178.41442790233313, 364.2413645477757, 334.55403325526726, 354.70641825756724, 271.3789763586905, 401.6712967970968, 1033.7378234984697, 562.5701391743095, 446.824696307688, 762.9059017940103, 707.1602394865153, 424.9419706545402, 396.5360934450837, 396.7242654283149, 548.7746727568934, 497.93507700761063, 629.1502925484068, 507.7068207629556, 638.0045899887203, 487.7758759175276, 344.55595680661366, 401.4406134827916, 556.5338178865438, 513.732460269563, 477.0310111089934, 413.0640098345957, 471.87674599262397, 422.1341367992537, 428.98615773909955, 422.97177546314026, 413.7777110645727, 361.899896538544, 522.3975583863959, 403.6379994135291, 450.4725221899979, 519.7309580740905, 238.3096771140597, 162.28752339450693, 220.25382987598954, 430.9732470629262, 122.97789439586626, 235.07256202536854, 240.00590100633593, 109.14813954137472, 87.58713113237685, 741.4719960542326, 217.81870711747584, 148.9407492703187, 192.3860255475534, 107.27477199832059, 225.70651583668763, 138.5211987802089, 181.0327727027378, 119.72383184341534, 124.77451903867771, 309.5929611409978, 212.1064180248315, 152.63663317040778, 167.3416141541051, 423.8538347675285, 215.96108215881713, 170.24032524147407, 600.1981492266765, 396.3277412626116, 452.94651769880636, 225.78345222120777, 297.4389824085482, 266.8749570838716, 660.015678096181, 430.2467311904478, 341.51051452356427, 392.6609327725846, 462.1831756742888, 855.9580502007968, 602.2861611913811, 415.9646013004553, 521.822593471628, 298.89778350286997, 631.0504485353267, 700.5125002372532, 440.32413112004417, 346.15396128841905, 449.02022920319155, 702.203834254153, 412.8577363094714, 458.21871800757003, 366.5856547381732, 424.26799665822614, 483.9899794736124, 451.599339443114, 375.8786342278837], \"Total\": [7494.0, 1960.0, 4006.0, 1791.0, 1417.0, 1381.0, 1307.0, 1539.0, 1527.0, 3904.0, 1133.0, 1354.0, 1158.0, 1322.0, 840.0, 2037.0, 949.0, 1229.0, 1191.0, 723.0, 536.0, 3373.0, 1227.0, 1934.0, 2659.0, 585.0, 909.0, 840.0, 1177.0, 502.0, 217.26388951217947, 240.76424133811585, 1381.8355208565795, 263.3489399170717, 212.53031189360402, 1791.3650352873417, 706.5877893279868, 873.2886460300481, 1960.6596174224035, 1527.8871738740565, 292.8641005800644, 175.16005543067863, 147.14414006428532, 1227.1579627824583, 201.21148832776225, 275.76649875581444, 337.3905018026442, 278.9113864412779, 562.4638640085541, 893.5620279252262, 477.25670367496554, 138.73101408373566, 791.2686103559264, 1163.019857878253, 213.34932392321844, 397.20204583725894, 321.6310279626067, 350.3647410423113, 503.63507709819464, 148.57667570510228, 644.0819420778575, 460.5594169703315, 4006.148904619454, 569.6211639630395, 1463.1746337157394, 971.1400891527985, 3373.118602106606, 3802.848143408363, 960.9220249617309, 1689.4921460630005, 3812.7502770829747, 567.5332256550917, 7494.154583009166, 4561.216168867673, 3178.9507630244725, 754.0033330107245, 1032.4715251151622, 3574.5077450937524, 1296.139897979958, 986.1439252390635, 3587.5736159575144, 1202.59369622341, 1565.1358896229192, 3137.2060808410156, 1711.7990471273524, 3119.1936859025864, 1825.8460566983372, 4508.372121263071, 3904.8381951048127, 2659.96077233745, 486.7862553905838, 287.0262402112202, 233.25020476072015, 313.334896189337, 276.0278564903131, 131.63807237571305, 178.6591914135881, 578.9038210388752, 309.22142928203306, 518.0304237820171, 296.10206664652935, 283.28939600917397, 560.118776706879, 420.59786850073164, 178.0567803672933, 199.84754974011685, 206.17274636946573, 388.88185931397976, 261.2061427265643, 329.0105113793455, 801.0148100863089, 1158.285288118652, 1417.4771519515825, 391.78261850290625, 1322.9822797295303, 228.4949279584305, 262.0183039446536, 334.0359231784364, 264.3663772968307, 1354.474750352756, 532.2266366251399, 338.5203097980657, 786.4185524334578, 2037.4349678481015, 549.4646302497524, 1528.4509598613167, 380.88559464661444, 381.28129625703866, 1261.3013940438445, 1268.5941756053296, 1731.6629470371925, 2777.294100614773, 1515.7883368576604, 1358.5568164892638, 2068.070995919378, 4508.372121263071, 2056.4698029847277, 1507.8265874118433, 3587.5736159575144, 930.3070704257917, 3355.498762059727, 3137.2060808410156, 1027.4595562249676, 1030.099196856797, 3119.1936859025864, 1626.119345164654, 2405.498081956892, 1854.680793013608, 1571.898721156279, 2055.5511306153994, 209.76446729731322, 259.231137228876, 723.2714567693208, 840.4349542970413, 247.70202674333575, 136.26831744936686, 198.7407457003611, 311.41259255442077, 343.00670662842805, 223.83265944377712, 452.4172734066993, 326.0735542491811, 442.39851811485636, 222.95651694250563, 1307.014032783768, 949.2696759307668, 1133.334494185254, 322.602111863446, 294.60696160308663, 1539.5304158975616, 235.22598784667218, 379.49975638268586, 168.42774572866907, 225.89446739401356, 274.6467017070413, 375.1940468083509, 265.27330696880745, 146.2959078624031, 529.498587576961, 487.4350428140592, 454.457976398599, 815.5510315567327, 574.4446421867531, 1264.4513091338033, 1315.5447107317907, 840.3592163672017, 2659.96077233745, 909.714225947014, 3904.8381951048127, 7494.154583009166, 1177.474722353306, 3355.498762059727, 1854.680793013608, 1934.2787995036592, 1830.8430145773868, 2055.5511306153994, 2075.0842402724525, 2042.4170903604747, 3119.1936859025864, 1988.2069757818147, 1358.5568164892638, 1738.7834042190652, 4508.372121263071, 2324.5049341690737, 1716.816172269161, 2203.3463895725645, 244.10738512976198, 240.82951146520904, 401.15537771378985, 301.6542813401185, 236.8587641506185, 323.1971714093698, 382.1091478480284, 211.91083523783655, 272.35078942247793, 401.60536627529325, 249.55260805417555, 419.2395455671535, 275.37651888749576, 258.14935987145026, 220.2223201860846, 909.6298045023052, 275.8955448865324, 212.75727252758517, 429.5117611405655, 722.3327414061304, 313.2908434760675, 333.00146798916376, 241.9263969160792, 429.28805621726315, 330.18345180191665, 217.46566192996812, 207.5806770021367, 174.58067471380969, 317.31601858908715, 217.88871211054337, 467.8705860123551, 358.1822937873219, 851.0680714402815, 310.67675083841647, 698.7236716572022, 639.214528797201, 714.7712067209229, 526.3723826067746, 938.4684737064174, 3904.8381951048127, 1711.7990471273524, 1296.3582494966363, 3574.5077450937524, 3137.2060808410156, 1248.0167162449632, 1108.3115634411254, 1206.2453737050455, 2405.498081956892, 1988.2069757818147, 3812.7502770829747, 2324.5049341690737, 4508.372121263071, 2259.3603419148158, 940.7904912079675, 1508.8018831605239, 4006.148904619454, 3178.9507630244725, 3373.118602106606, 2203.3463895725645, 4561.216168867673, 2659.96077233745, 3119.1936859025864, 3355.498762059727, 3802.848143408363, 1229.581920787146, 536.035433440979, 426.137494806024, 502.3004556571455, 585.889919614616, 275.60917485082234, 213.51152356331338, 294.9704795348282, 587.5007735030626, 173.59323369369187, 349.912541509714, 364.5546056784708, 170.68243808908753, 140.0978311382155, 1191.2411153110518, 352.88283144316176, 244.52465559224697, 319.92524871577484, 183.66859773874307, 392.8173078553383, 243.63113248250943, 322.9155648251998, 218.221826214807, 227.62206195708816, 565.0651935913177, 387.69296408977937, 282.7002385497036, 311.4341168750918, 801.1644318885004, 408.97876181084916, 325.5798797495079, 1229.581920787146, 805.7970735368241, 973.1786675374852, 453.73221378199946, 641.9303643508724, 569.4308363360938, 1934.2787995036592, 1158.4802750609228, 840.3592163672017, 1177.474722353306, 1544.7021864441379, 4508.372121263071, 2777.294100614773, 1472.3070466185375, 2324.5049341690737, 775.0408632157814, 3587.5736159575144, 4561.216168867673, 1830.8430145773868, 1046.2641452543564, 2055.5511306153994, 7494.154583009166, 1738.7834042190652, 2405.498081956892, 1251.2372503076901, 2056.4698029847277, 3355.498762059727, 3802.848143408363, 1626.119345164654], \"Category\": [\"Default\", \"Default\", \"Default\", \"Default\", \"Default\", \"Default\", \"Default\", \"Default\", \"Default\", \"Default\", \"Default\", \"Default\", \"Default\", \"Default\", \"Default\", \"Default\", \"Default\", \"Default\", \"Default\", \"Default\", \"Default\", \"Default\", \"Default\", \"Default\", \"Default\", \"Default\", \"Default\", \"Default\", \"Default\", \"Default\", \"Topic1\", \"Topic1\", \"Topic1\", \"Topic1\", \"Topic1\", \"Topic1\", \"Topic1\", \"Topic1\", \"Topic1\", \"Topic1\", \"Topic1\", \"Topic1\", \"Topic1\", \"Topic1\", \"Topic1\", \"Topic1\", \"Topic1\", \"Topic1\", \"Topic1\", \"Topic1\", \"Topic1\", \"Topic1\", \"Topic1\", \"Topic1\", \"Topic1\", \"Topic1\", \"Topic1\", \"Topic1\", \"Topic1\", \"Topic1\", \"Topic1\", \"Topic1\", \"Topic1\", \"Topic1\", \"Topic1\", \"Topic1\", \"Topic1\", \"Topic1\", \"Topic1\", \"Topic1\", \"Topic1\", \"Topic1\", \"Topic1\", \"Topic1\", \"Topic1\", \"Topic1\", \"Topic1\", \"Topic1\", \"Topic1\", \"Topic1\", \"Topic1\", \"Topic1\", \"Topic1\", \"Topic1\", \"Topic1\", \"Topic1\", \"Topic1\", \"Topic1\", \"Topic1\", \"Topic1\", \"Topic2\", \"Topic2\", \"Topic2\", \"Topic2\", \"Topic2\", \"Topic2\", \"Topic2\", \"Topic2\", \"Topic2\", \"Topic2\", \"Topic2\", \"Topic2\", \"Topic2\", \"Topic2\", \"Topic2\", \"Topic2\", \"Topic2\", \"Topic2\", \"Topic2\", \"Topic2\", \"Topic2\", \"Topic2\", \"Topic2\", \"Topic2\", \"Topic2\", \"Topic2\", \"Topic2\", \"Topic2\", \"Topic2\", \"Topic2\", \"Topic2\", \"Topic2\", \"Topic2\", \"Topic2\", \"Topic2\", \"Topic2\", \"Topic2\", \"Topic2\", \"Topic2\", \"Topic2\", \"Topic2\", \"Topic2\", \"Topic2\", \"Topic2\", \"Topic2\", \"Topic2\", \"Topic2\", \"Topic2\", \"Topic2\", \"Topic2\", \"Topic2\", \"Topic2\", \"Topic2\", \"Topic2\", \"Topic2\", \"Topic2\", \"Topic2\", \"Topic2\", \"Topic2\", \"Topic2\", \"Topic3\", \"Topic3\", \"Topic3\", \"Topic3\", \"Topic3\", \"Topic3\", \"Topic3\", \"Topic3\", \"Topic3\", \"Topic3\", \"Topic3\", \"Topic3\", \"Topic3\", \"Topic3\", \"Topic3\", \"Topic3\", \"Topic3\", \"Topic3\", \"Topic3\", \"Topic3\", \"Topic3\", \"Topic3\", \"Topic3\", \"Topic3\", \"Topic3\", \"Topic3\", \"Topic3\", \"Topic3\", \"Topic3\", \"Topic3\", \"Topic3\", \"Topic3\", \"Topic3\", \"Topic3\", \"Topic3\", \"Topic3\", \"Topic3\", \"Topic3\", \"Topic3\", \"Topic3\", \"Topic3\", \"Topic3\", \"Topic3\", \"Topic3\", \"Topic3\", \"Topic3\", \"Topic3\", \"Topic3\", \"Topic3\", \"Topic3\", \"Topic3\", \"Topic3\", \"Topic3\", \"Topic3\", \"Topic3\", \"Topic3\", \"Topic4\", \"Topic4\", \"Topic4\", \"Topic4\", \"Topic4\", \"Topic4\", \"Topic4\", \"Topic4\", \"Topic4\", \"Topic4\", \"Topic4\", \"Topic4\", \"Topic4\", \"Topic4\", \"Topic4\", \"Topic4\", \"Topic4\", \"Topic4\", \"Topic4\", \"Topic4\", \"Topic4\", \"Topic4\", \"Topic4\", \"Topic4\", \"Topic4\", \"Topic4\", \"Topic4\", \"Topic4\", \"Topic4\", \"Topic4\", \"Topic4\", \"Topic4\", \"Topic4\", \"Topic4\", \"Topic4\", \"Topic4\", \"Topic4\", \"Topic4\", \"Topic4\", \"Topic4\", \"Topic4\", \"Topic4\", \"Topic4\", \"Topic4\", \"Topic4\", \"Topic4\", \"Topic4\", \"Topic4\", \"Topic4\", \"Topic4\", \"Topic4\", \"Topic4\", \"Topic4\", \"Topic4\", \"Topic4\", \"Topic4\", \"Topic4\", \"Topic4\", \"Topic4\", \"Topic4\", \"Topic4\", \"Topic4\", \"Topic4\", \"Topic4\", \"Topic4\", \"Topic5\", \"Topic5\", \"Topic5\", \"Topic5\", \"Topic5\", \"Topic5\", \"Topic5\", \"Topic5\", \"Topic5\", \"Topic5\", \"Topic5\", \"Topic5\", \"Topic5\", \"Topic5\", \"Topic5\", \"Topic5\", \"Topic5\", \"Topic5\", \"Topic5\", \"Topic5\", \"Topic5\", \"Topic5\", \"Topic5\", \"Topic5\", \"Topic5\", \"Topic5\", \"Topic5\", \"Topic5\", \"Topic5\", \"Topic5\", \"Topic5\", \"Topic5\", \"Topic5\", \"Topic5\", \"Topic5\", \"Topic5\", \"Topic5\", \"Topic5\", \"Topic5\", \"Topic5\", \"Topic5\", \"Topic5\", \"Topic5\", \"Topic5\", \"Topic5\", \"Topic5\", \"Topic5\", \"Topic5\", \"Topic5\", \"Topic5\", \"Topic5\", \"Topic5\", \"Topic5\", \"Topic5\", \"Topic5\", \"Topic5\", \"Topic5\", \"Topic5\", \"Topic5\"], \"logprob\": [30.0, 29.0, 28.0, 27.0, 26.0, 25.0, 24.0, 23.0, 22.0, 21.0, 20.0, 19.0, 18.0, 17.0, 16.0, 15.0, 14.0, 13.0, 12.0, 11.0, 10.0, 9.0, 8.0, 7.0, 6.0, 5.0, 4.0, 3.0, 2.0, 1.0, -6.6737, -6.5718, -4.8248, -6.4839, -6.7058, -4.5756, -5.5133, -5.3038, -4.496, -4.7464, -6.4092, -6.9246, -7.1044, -4.9853, -6.7958, -6.4815, -6.2804, -6.4708, -5.78, -5.3367, -5.9661, -7.2059, -5.4727, -5.0886, -6.7897, -6.1691, -6.3884, -6.3031, -5.9486, -7.1705, -5.7141, -6.052, -3.9891, -5.857, -4.9982, -5.3776, -4.2642, -4.16, -5.394, -4.903, -4.2377, -5.8671, -3.734, -4.1679, -4.4943, -5.6564, -5.4302, -4.5454, -5.309, -5.5019, -4.6577, -5.4252, -5.2968, -4.9636, -5.2662, -5.045, -5.2709, -4.9735, -5.33, -5.367, -5.2962, -5.8367, -6.0913, -5.8157, -5.9493, -6.6981, -6.4046, -5.2296, -5.8584, -5.3477, -5.9081, -5.9603, -5.2864, -5.6214, -6.4867, -6.3753, -6.3616, -5.7334, -6.151, -5.9216, -5.0347, -4.6664, -4.4658, -5.7642, -4.5517, -6.3156, -6.1793, -5.9386, -6.1765, -4.5442, -5.5054, -5.9412, -5.1515, -4.3653, -5.5281, -4.6805, -5.8463, -5.8539, -4.9866, -4.9871, -4.7754, -4.4605, -4.8901, -4.9937, -4.7369, -4.3544, -4.8148, -5.0145, -4.575, -5.2972, -4.6884, -4.7263, -5.292, -5.3295, -5.0071, -5.2436, -5.2401, -5.2724, -5.2883, -5.2879, -6.0912, -5.911, -4.91, -4.7959, -6.0302, -6.6391, -6.2629, -5.817, -5.7441, -6.1794, -5.4775, -5.8091, -5.5084, -6.2054, -4.4523, -4.7844, -4.6357, -5.9058, -6.0008, -4.4061, -6.2862, -5.8096, -6.6242, -6.3365, -6.1571, -5.8494, -6.1989, -6.7953, -5.5251, -5.6108, -5.6886, -5.1342, -5.4813, -4.7615, -4.7493, -5.2229, -4.3533, -5.1796, -4.1591, -3.698, -5.0301, -4.426, -4.837, -4.9083, -4.9764, -4.9698, -5.0017, -5.0329, -4.8964, -5.1677, -5.3014, -5.2321, -5.0048, -5.2059, -5.3289, -5.3617, -5.8916, -5.9123, -5.4157, -5.7012, -5.9683, -5.6611, -5.5235, -6.1154, -5.895, -5.5485, -6.0559, -5.5516, -5.9797, -6.0532, -6.2162, -4.8056, -6.007, -6.2938, -5.6052, -5.1181, -5.9584, -5.903, -6.2428, -5.7001, -5.9639, -6.4042, -6.4538, -6.6375, -6.0423, -6.4246, -5.6637, -5.9291, -5.0822, -6.0705, -5.3568, -5.4418, -5.3833, -5.6511, -5.259, -4.3137, -4.9221, -5.1524, -4.6175, -4.6934, -5.2027, -5.2718, -5.2714, -4.9469, -5.0441, -4.8102, -5.0247, -4.7963, -5.0648, -5.4124, -5.2596, -4.9329, -5.0129, -5.087, -5.231, -5.0979, -5.2093, -5.1932, -5.2073, -5.2293, -5.3632, -4.9741, -5.232, -5.1222, -4.9792, -5.7589, -6.1431, -5.8377, -5.1665, -6.4205, -5.7726, -5.7518, -6.5398, -6.7599, -4.6239, -5.8488, -6.229, -5.973, -6.5571, -5.8133, -6.3015, -6.0338, -6.4473, -6.406, -5.4972, -5.8754, -6.2044, -6.1125, -5.1831, -5.8574, -6.0953, -4.8352, -5.2503, -5.1167, -5.8129, -5.5373, -5.6457, -4.7402, -5.1681, -5.3991, -5.2596, -5.0965, -4.4803, -4.8318, -5.2019, -4.9752, -5.5324, -4.7851, -4.6807, -5.145, -5.3856, -5.1254, -4.6783, -5.2094, -5.1052, -5.3283, -5.1821, -5.0504, -5.1197, -5.3032], \"loglift\": [30.0, 29.0, 28.0, 27.0, 26.0, 25.0, 24.0, 23.0, 22.0, 21.0, 20.0, 19.0, 18.0, 17.0, 16.0, 15.0, 14.0, 13.0, 12.0, 11.0, 10.0, 9.0, 8.0, 7.0, 6.0, 5.0, 4.0, 3.0, 2.0, 1.0, 1.0851, 1.0843, 1.084, 1.0826, 1.075, 1.0736, 1.0662, 1.0638, 1.0629, 1.0619, 1.0511, 1.0496, 1.0441, 1.0421, 1.0398, 1.0388, 1.0383, 1.0382, 1.0276, 1.008, 1.0058, 1.0015, 0.9937, 0.9925, 0.9873, 0.9864, 0.9781, 0.9779, 0.9695, 0.9684, 0.958, 0.9555, 0.8552, 0.938, 0.8533, 0.8839, 0.7521, 0.7365, 0.878, 0.8048, 0.6562, 0.9315, 0.4841, 0.5467, 0.5813, 0.8581, 0.77, 0.413, 0.6638, 0.7443, 0.297, 0.6225, 0.4874, 0.1252, 0.4284, 0.0496, 0.3592, -0.2473, -0.4601, -0.1131, 1.656, 1.6436, 1.5965, 1.5769, 1.5702, 1.5618, 1.5499, 1.5492, 1.5475, 1.5422, 1.5411, 1.5332, 1.5254, 1.4769, 1.4711, 1.4671, 1.4496, 1.4433, 1.4237, 1.4222, 1.4193, 1.4188, 1.4175, 1.405, 1.4006, 1.3928, 1.3922, 1.39, 1.3861, 1.3845, 1.3574, 1.3741, 1.3209, 1.1552, 1.3029, 1.1274, 1.3511, 1.3425, 1.0135, 1.0072, 0.9077, 0.7502, 0.9262, 0.932, 0.7686, 0.3719, 0.6964, 0.807, 0.3798, 1.0073, 0.3332, 0.3625, 0.9131, 0.8731, 0.0875, 0.5023, 0.1143, 0.3421, 0.4916, 0.2237, 1.7027, 1.6712, 1.6462, 1.6102, 1.5975, 1.5863, 1.585, 1.5818, 1.5581, 1.5496, 1.5478, 1.5437, 1.5393, 1.5276, 1.5121, 1.4999, 1.4713, 1.4577, 1.4535, 1.3946, 1.3932, 1.3915, 1.3892, 1.3833, 1.3674, 1.3631, 1.3603, 1.359, 1.3429, 1.34, 1.3322, 1.3019, 1.3053, 1.236, 1.2086, 1.1832, 0.9005, 1.1472, 0.7108, 0.52, 1.0387, 0.5956, 0.7774, 0.6642, 0.651, 0.5419, 0.5005, 0.4852, 0.1983, 0.3773, 0.6243, 0.4469, -0.2786, 0.1828, 0.3628, 0.0805, 1.7507, 1.7435, 1.7298, 1.7295, 1.7042, 1.7005, 1.6707, 1.6684, 1.6378, 1.5959, 1.5644, 1.5499, 1.5421, 1.5332, 1.5291, 1.5213, 1.5129, 1.486, 1.4721, 1.4394, 1.4345, 1.4288, 1.4085, 1.3778, 1.3764, 1.3537, 1.3506, 1.3401, 1.3378, 1.3313, 1.3281, 1.3298, 1.3113, 1.3307, 1.2339, 1.2379, 1.1847, 1.2228, 1.0367, 0.5563, 0.7725, 0.8202, 0.3409, 0.3955, 0.808, 0.8575, 0.7733, 0.4075, 0.5008, 0.0836, 0.364, -0.07, 0.3523, 0.8809, 0.5613, -0.0885, 0.0627, -0.0707, 0.2112, -0.3833, 0.0446, -0.0986, -0.1857, -0.3329, 0.6623, 1.8817, 1.8532, 1.7985, 1.7876, 1.762, 1.6331, 1.6153, 1.5976, 1.5627, 1.5097, 1.4894, 1.4603, 1.4377, 1.4333, 1.425, 1.4117, 1.3989, 1.3697, 1.3533, 1.3428, 1.3287, 1.3071, 1.3063, 1.3058, 1.3043, 1.2911, 1.2863, 1.2708, 1.2689, 1.259, 1.1903, 1.1978, 1.1426, 1.2095, 1.1382, 1.1496, 0.8322, 0.9169, 1.007, 0.8093, 0.7008, 0.246, 0.3789, 0.6435, 0.4135, 0.9546, 0.1696, 0.0339, 0.4824, 0.8013, 0.3862, -0.4602, 0.4696, 0.2493, 0.6798, 0.3291, -0.0289, -0.2233, 0.4428]}, \"token.table\": {\"Topic\": [1, 2, 3, 4, 5, 1, 2, 3, 4, 5, 1, 3, 4, 1, 2, 3, 4, 5, 1, 2, 4, 5, 1, 2, 3, 5, 1, 2, 5, 1, 2, 3, 4, 5, 1, 2, 3, 4, 5, 1, 2, 3, 4, 5, 1, 2, 3, 4, 5, 1, 2, 3, 4, 5, 1, 2, 3, 4, 5, 2, 3, 4, 5, 1, 2, 3, 4, 5, 1, 2, 3, 4, 5, 1, 2, 3, 4, 5, 1, 2, 4, 5, 1, 2, 3, 4, 5, 1, 2, 3, 4, 5, 1, 2, 3, 4, 5, 1, 2, 3, 4, 5, 1, 3, 4, 5, 1, 2, 3, 4, 5, 1, 2, 3, 4, 5, 1, 2, 3, 5, 2, 3, 4, 5, 1, 2, 3, 4, 5, 1, 2, 3, 4, 5, 1, 2, 3, 4, 5, 1, 3, 4, 5, 1, 2, 3, 4, 5, 1, 2, 3, 4, 5, 1, 4, 1, 2, 3, 4, 5, 1, 2, 4, 5, 1, 2, 3, 4, 5, 1, 2, 3, 4, 5, 1, 2, 3, 5, 1, 2, 3, 4, 5, 1, 2, 3, 5, 1, 2, 3, 4, 5, 1, 2, 3, 4, 5, 1, 2, 3, 4, 5, 1, 2, 3, 5, 1, 4, 1, 2, 3, 4, 5, 1, 2, 3, 4, 5, 2, 3, 4, 5, 3, 4, 5, 1, 2, 3, 5, 2, 3, 4, 5, 1, 2, 3, 4, 5, 1, 2, 3, 4, 5, 1, 2, 3, 4, 5, 1, 2, 3, 4, 5, 1, 2, 3, 4, 5, 1, 2, 3, 4, 5, 1, 2, 3, 4, 5, 1, 2, 3, 4, 5, 1, 2, 3, 4, 5, 1, 2, 3, 4, 5, 1, 2, 3, 4, 5, 2, 3, 4, 5, 1, 2, 3, 4, 5, 1, 2, 3, 4, 5, 1, 2, 3, 4, 5, 1, 2, 3, 4, 5, 1, 2, 3, 4, 5, 2, 3, 4, 5, 1, 2, 3, 4, 5, 1, 2, 3, 4, 5, 1, 2, 3, 4, 5, 1, 2, 3, 4, 5, 1, 2, 3, 4, 5, 1, 2, 3, 4, 5, 1, 2, 4, 5, 2, 3, 4, 5, 1, 2, 3, 4, 5, 1, 2, 3, 4, 5, 1, 2, 3, 4, 5, 1, 3, 4, 5, 1, 2, 3, 4, 5, 1, 2, 3, 4, 5, 1, 2, 3, 4, 5, 1, 2, 3, 4, 5, 1, 2, 3, 4, 5, 1, 2, 3, 4, 5, 1, 2, 3, 5, 1, 2, 4, 5, 1, 2, 3, 4, 5, 1, 2, 3, 4, 5, 1, 2, 3, 4, 5, 1, 2, 3, 4, 5, 1, 2, 3, 4, 5, 2, 4, 5, 1, 2, 3, 4, 5, 2, 3, 4, 5, 1, 2, 3, 4, 5, 1, 4, 1, 2, 3, 4, 5, 1, 2, 3, 4, 5, 1, 2, 3, 4, 5, 1, 2, 3, 4, 5, 1, 2, 3, 4, 5, 2, 3, 5, 1, 2, 3, 4, 5, 2, 3, 4, 5, 1, 2, 3, 4, 5, 1, 2, 3, 4, 5, 1, 2, 3, 4, 5, 1, 3, 4, 5, 1, 2, 3, 5, 1, 2, 3, 4, 5, 1, 2, 3, 4, 5, 1, 2, 3, 4, 5, 1, 2, 3, 4, 5, 1, 2, 3, 4, 5, 1, 2, 3, 4, 5, 1, 2, 3, 4, 5, 1, 2, 3, 4, 5, 2, 3, 4, 5, 1, 2, 3, 4, 5, 1, 2, 3, 4, 5, 1, 2, 3, 4, 5, 1, 2, 3, 5, 1, 2, 3, 4, 5, 1, 2, 3, 4, 5, 3, 5, 1, 2, 3, 4, 5, 1, 2, 3, 4, 5, 1, 2, 3, 4, 5, 1, 2, 3, 5, 1, 2, 3, 4, 5, 1, 2, 3, 4, 5, 1, 2, 3, 4, 5, 1, 2, 3, 4, 5, 1, 2, 3, 4, 5, 1, 2, 3, 4, 5, 2, 3, 4, 5, 1, 2, 3, 4, 5, 1, 2, 3, 4, 5, 1, 2, 3, 4, 1, 2, 3, 4, 5, 1, 2, 3, 4, 5, 1, 3, 4, 1, 2, 3, 4, 5, 1, 2, 3, 4, 5, 1, 2, 3, 4, 5, 1, 2, 3, 4, 5, 1, 2, 3, 4, 5, 1, 2, 3, 4, 5, 1, 2, 3, 4, 5, 1, 2, 3, 4, 5, 1, 2, 3, 4, 5, 1, 2, 3, 4, 5, 1, 2, 3, 4, 5, 1, 2, 3, 4, 5, 1, 2, 3, 4, 5, 1, 2, 3, 4, 5, 1, 2, 3, 4, 5, 1, 2, 3, 4, 5, 1, 2, 3, 4, 5, 1, 2, 3, 4, 5, 1, 2, 3, 4, 5, 1, 2, 3, 4, 5, 1, 2, 3, 4, 5, 1, 2, 3, 4, 5, 1, 3, 4, 1, 2, 5, 1, 2, 3, 4, 5, 1, 2, 3, 4, 5, 1, 3, 5, 1, 2, 3, 4, 5, 1, 2, 3, 4, 5, 1, 2, 3, 4, 5, 1, 2, 3, 4, 5, 1, 2, 3, 4, 5, 1, 2, 3, 4, 5, 1, 2, 3, 4, 5, 1, 2, 3, 4, 5, 1, 2, 3, 4, 5, 1, 2, 3, 4, 5, 1, 2, 3, 4, 5, 1, 2, 3, 4, 5, 1, 2, 3, 4, 5, 1, 2, 3, 4, 5, 1, 2, 3, 4, 5, 2, 3, 4, 5, 1, 2, 3, 4, 5, 1, 3, 4, 1, 1, 2, 3, 4, 5, 1, 2, 3, 4, 5, 1, 4, 1, 2, 3, 4, 5, 1, 2, 3, 4, 5, 1, 2, 3, 4, 5, 1, 2, 3, 4, 5, 1, 2, 3, 4, 5, 1, 2, 3, 4, 5, 1, 2, 3, 4, 5, 1, 2, 3, 4, 5, 1, 2, 3, 4, 5, 1, 3, 4, 5, 1, 3, 4, 5, 1, 2, 3, 4, 5, 1, 2, 3, 4, 5, 1, 2, 3, 5, 1, 2, 3, 4, 1, 2, 3, 4, 5, 1, 2, 3, 4, 5, 1, 2, 3, 4, 5, 1, 2, 3, 4, 5, 2, 3, 4, 5, 2, 3, 4, 5, 1, 2, 3, 4, 5, 1, 2, 3, 4, 5, 1, 2, 3, 4, 5, 1, 2, 3, 4, 5, 1, 2, 3, 4, 5, 1, 4, 1, 2, 3, 4, 5, 2, 3, 4, 5, 1, 2, 3, 4, 5, 1, 2, 3, 4, 5, 1, 2, 3, 4, 5, 1, 2, 3, 4, 5, 1, 2, 3, 4, 5, 1, 2, 3, 4, 5, 1, 2, 3, 5, 1, 2, 3, 4, 5, 1, 2, 3, 4, 5, 1, 2, 3, 4, 5, 1, 2, 3, 4, 5, 1, 3, 4, 5, 1, 3, 4, 5, 1, 2, 3, 4, 5, 1, 2, 3, 4, 5, 1, 2, 3, 4, 5, 1, 4, 1, 2, 4, 5, 1, 2, 3, 4, 5, 1, 2, 3, 4, 5, 1, 2, 3, 4, 5, 1, 2, 3, 4, 5, 1, 2, 4, 5, 2, 3, 4, 5, 1, 2, 3, 4, 1, 2, 3, 4, 5, 1, 2, 3, 4, 5], \"Freq\": [0.791773688341917, 0.014588794927573008, 0.0424401306983942, 0.07824899097516431, 0.07161772055354022, 0.11993793713626272, 0.002665287491916949, 0.684978885422656, 0.17590897446651865, 0.015991724951501696, 0.9910805036169451, 0.0037972433088771843, 0.0037972433088771843, 0.9387269721419296, 0.0017778919926930484, 0.02311259590500963, 0.03377994786116792, 0.003555783985386097, 0.17281361699641953, 0.11795215128327047, 0.04937531914183415, 0.6583375885577887, 0.0020542897194121223, 0.9881133550372307, 0.0041085794388242445, 0.006162869158236366, 0.03001069176844219, 0.9303314448217079, 0.03429793344964822, 0.7123971266528428, 0.060181696508750354, 0.000889384677469217, 0.1414121637176055, 0.08508446747788843, 0.26053625518354745, 0.09858128574512606, 0.2555065977475716, 0.2504769403115958, 0.13529778502774953, 0.3764576425436298, 0.18624048865274645, 0.0848355250802546, 0.2657737934154851, 0.08682385769932308, 0.6005126037824399, 0.06668867050910281, 0.10569525137291766, 0.16168856906452284, 0.0657449629075589, 0.8584652940172871, 0.0017555527485016095, 0.003511105497003219, 0.12464424514361427, 0.012288869239511266, 0.8756649785592387, 0.0031051949594299248, 0.0031051949594299248, 0.11644481097862218, 0.0015525974797149624, 0.03514597807970028, 0.2943475664174899, 0.11861767601898845, 0.549155907495317, 0.041494988668550344, 0.03191922205273103, 0.14044457703201654, 0.6383844410546207, 0.14682842144256275, 0.5074824645407007, 0.09819533905941892, 0.0794514994099002, 0.21345596496392205, 0.10155244466828794, 0.004133488584740447, 0.04546837443214492, 0.27281024659286957, 0.6200232877110672, 0.05373535160162582, 0.17793819239910866, 0.06173365858744586, 0.7081213779148202, 0.050839483542602475, 0.03986830526607372, 0.02146754898942431, 0.8188336543108986, 0.03680151255329882, 0.07973661053214744, 0.09409747490190531, 0.7070026492629643, 0.005086349994697584, 0.011444287488069565, 0.18310859980911304, 0.00563669646266309, 0.7327705401462017, 0.24049904907362518, 0.0018788988208876967, 0.018788988208876967, 0.020126723314356228, 0.0704435316002468, 0.8553857408601397, 0.04528512745730152, 0.005031680828589057, 0.3665926947808816, 0.03436806513570764, 0.5785290964510788, 0.01718403256785382, 0.14841225334278646, 0.46775846384302344, 0.07795974397383724, 0.10567876405342382, 0.19980793640701988, 0.1285737526769806, 0.7997287416508193, 0.002571475053539612, 0.03342917569601496, 0.03342917569601496, 0.021899243522701985, 0.00398168064049127, 0.07764277248957976, 0.8958781441105358, 0.012844695736897607, 0.8509610925694665, 0.03532291327646842, 0.09954639196095645, 0.0040895671546002845, 0.012268701463800854, 0.3108071037496216, 0.061343507319004266, 0.6093455060354424, 0.33140374059197286, 0.5200977364314215, 0.052326906409258876, 0.04756991491750807, 0.04915557874809167, 0.9074036181936133, 0.06066208032492122, 0.012637933401025255, 0.0050551733604101015, 0.01390172674112778, 0.9484558643182648, 0.0029639245759945773, 0.03853101948792951, 0.008891773727983733, 0.02798624554627711, 0.8899626083716121, 0.0503752419832988, 0.011194498218510844, 0.016791747327766268, 0.17982309501585872, 0.15413408144216462, 0.1120040991813063, 0.08837020669350772, 0.4654849259553372, 0.9492499736837674, 0.044729056351591134, 0.13610454093355231, 0.3128840021460973, 0.0015644200107304866, 0.524080703594713, 0.025030720171687785, 0.04492948813012175, 0.819963158374722, 0.08424279024397828, 0.04492948813012175, 0.2863716692492293, 0.01862579962596613, 0.023282249532457666, 0.6612158867217978, 0.009312899812983066, 0.17795962327247086, 0.002617053283418689, 0.010468213133674756, 0.8060524112929562, 0.002617053283418689, 0.009367175909861055, 0.023417939774652636, 0.2060778700169432, 0.7587412486987455, 0.12375904211059852, 0.5171078447423735, 0.09932254334990709, 0.06148538397851391, 0.19864508669981418, 0.0035299591657416514, 0.8754298731039295, 0.0035299591657416514, 0.12001861163521614, 0.08655027226342944, 0.7238750043850463, 0.04458650389328184, 0.12064583406417438, 0.02622735523134226, 0.3780525384929431, 0.007218186892466694, 0.18586831248101737, 0.3582025245386597, 0.0712795955631086, 0.2477590224770679, 0.18227985225098567, 0.012387951123853396, 0.008848536517038139, 0.5486092640563647, 0.16507908558582793, 0.2863090390629203, 0.0025793607122785614, 0.546824471003055, 0.950079147329624, 0.047141331737729435, 0.06441003585506717, 0.07833653009400061, 0.6458411703305384, 0.020889741358400164, 0.19148929578533486, 0.07905143414571296, 0.06324114731657036, 0.7035577638968453, 0.07114629073114166, 0.08168648195057004, 0.013402869837918125, 0.8265103066716177, 0.013402869837918125, 0.14743156821709938, 0.6994416544271114, 0.03541476731276513, 0.26118390893164284, 0.15580476339031296, 0.28869706157616815, 0.0045824930408915575, 0.5498991649069869, 0.004251230950943362, 0.7057043378565981, 0.012753692852830087, 0.27633001181131855, 0.8124471523859204, 0.014416045796454861, 0.0720802289822743, 0.06487220608404687, 0.03604011449113715, 0.9062613960202341, 0.0025794916395262832, 0.012897458197631415, 0.060188138255613276, 0.017196610930175223, 0.647301769233152, 0.018097172640635123, 0.10097697777745686, 0.16497277668057236, 0.06871680046154206, 0.9526075985763146, 0.0008148910167462058, 0.012223365251193087, 0.02118716643540135, 0.013038256267939292, 0.1999339851462913, 0.5170335852439037, 0.10856630376223343, 0.11071613155950538, 0.06449483391815848, 0.10853621512173325, 0.004718965874857968, 0.07550345399772748, 0.8069431646007125, 0.004718965874857968, 0.5469173671598777, 0.030029341421161513, 0.16675868321113096, 0.155258084368984, 0.10094970094773445, 0.03407663540462825, 0.08574121166325817, 0.5518216442943026, 0.010992463033751048, 0.3187814279787804, 0.5073594588140969, 0.017409393194601365, 0.04227995490117475, 0.32912043325032103, 0.10279832172050331, 0.29911681610028035, 0.0028623618765577065, 0.025761256889019358, 0.5209498615335025, 0.15027399851927958, 0.06917286383556295, 0.0047705423334871, 0.20274804917320174, 0.715581350023065, 0.00715581350023065, 0.23155329801081334, 0.7005971580839992, 0.04156084836091521, 0.023749056206237264, 0.35998538541351993, 0.08192438489999784, 0.28866297973587474, 0.15662014760293705, 0.1122845981276441, 0.02993689991437887, 0.7574035678337855, 0.07184855979450928, 0.01796213994862732, 0.12274128964895337, 0.4007244926770778, 0.16184349461917522, 0.09127973096521481, 0.04661092645032246, 0.2990867780562358, 0.17477936746444853, 0.06405940617475263, 0.6026329321624877, 0.12890966921586022, 0.028470847188778944, 0.045011581984600035, 0.008492751317849063, 0.4951274018306004, 0.11889851844988689, 0.3337651267914682, 0.002260405401584953, 0.816006349972168, 0.14014513489826708, 0.0384268918269442, 0.023323159126058233, 0.002915394890757279, 0.8308875438658245, 0.13993895475634938, 0.002915394890757279, 0.003390169760638459, 0.023731188324469212, 0.057632885930853806, 0.17289865779256142, 0.745837347340461, 0.00714503584106644, 0.058459384154179964, 0.706059450839929, 0.18382228572925477, 0.04351976375922286, 0.012950177433716516, 0.7796006815097343, 0.15971885501583702, 0.0025900354867433033, 0.044030603274636156, 0.2982038536015682, 0.19784678748565582, 0.127118950413489, 0.045877515938702804, 0.3307004273914827, 0.011947636860870432, 0.003413610531677266, 0.008534026329193164, 0.08875387382360891, 0.8875387382360892, 0.14289284912244832, 0.12288785024530556, 0.0600149966314283, 0.6715963908755072, 0.004767251636487285, 0.9629848305704316, 0.004767251636487285, 0.03337076145541099, 0.005250920560163478, 0.7298779578627234, 0.13389847428416868, 0.05250920560163478, 0.0813892686825339, 0.1378315357795778, 0.7682831901787577, 0.010209743391079837, 0.0025524358477699593, 0.07912551128086874, 0.7886960130448757, 0.010935126697329298, 0.06834454185830811, 0.07107832353264044, 0.0615100876724773, 0.3420356895708032, 0.004817404078462017, 0.5877232975723661, 0.06262625302000623, 0.05790271807184129, 0.2093803644562118, 0.3401784686720676, 0.051181866867073995, 0.3412124457804933, 0.20536987442737792, 0.09613057951919818, 0.33591083184265275, 0.12234801029716132, 0.24032644879799545, 0.006242081840485887, 0.7802602300607359, 0.08988597850299677, 0.03495565830672097, 0.08988597850299677, 0.14395683951897464, 0.1551259046540675, 0.14271583228174212, 0.06701439081055717, 0.49143886594408587, 0.0044851795036691955, 0.022425897518345977, 0.8073323106604552, 0.022425897518345977, 0.14352574411741426, 0.0030714428691643115, 0.006142885738328623, 0.3777874729072103, 0.09214328607492935, 0.5221452877579329, 0.025531787545188995, 0.9127614047405065, 0.04468062820408074, 0.01595736721574312, 0.07719471843560295, 0.022704328951647926, 0.6992933317107561, 0.19979809477450175, 0.6519357989958782, 0.08563890377342305, 0.07252303562794385, 0.17050628589122968, 0.0192880413904106, 0.1527841389127901, 0.04039120913786405, 0.2142490223834528, 0.1246859064690586, 0.46888925390476965, 0.2380014417103623, 0.3996695919795797, 0.10477824438383575, 0.04104714728438926, 0.21675774267721348, 0.177037303738859, 0.06056539338434651, 0.14675460704668578, 0.6009950574292845, 0.013976629242541502, 0.008752929519572772, 0.761504868202831, 0.008752929519572772, 0.09190575995551409, 0.12691747803380518, 0.004693320875015684, 0.046933208750156837, 0.9480508167531682, 0.13446035470298964, 0.002490006568573882, 0.08466022333151199, 0.7494919771407385, 0.029880078822886586, 0.0036283262360234025, 0.010884978708070207, 0.11973476578877228, 0.8635416441735698, 0.16837645720638053, 0.4700914961311087, 0.08856796303919438, 0.07688867120985007, 0.19562813814151728, 0.9926723282148936, 0.004153440703828007, 0.24475712800977872, 0.4763198016794077, 0.11413203004229575, 0.05739587637965162, 0.10687508015521335, 0.11569851392257349, 0.7788485327470801, 0.0014109574868606525, 0.1022944177973973, 0.0014109574868606525, 0.1281696993508583, 0.03392727335758015, 0.682315164191334, 0.02638787927811789, 0.1281696993508583, 0.08768069064667666, 0.7656943071127884, 0.07029572612190457, 0.01587322847913974, 0.06046944182529425, 0.010182850704412109, 0.08909994366360596, 0.18074560000331494, 0.14510562253787257, 0.5753310647992842, 0.30759575341180573, 0.6835461186929016, 0.006835461186929017, 0.27317644745159014, 0.07356405120349908, 0.21036737449421666, 0.21854115796127213, 0.22456394577910246, 0.08443850524898458, 0.059106953674289205, 0.8359412019649474, 0.021109626312246145, 0.08209131483405892, 0.1888100241183355, 0.12313697225108838, 0.03694109167532651, 0.5705346380967095, 0.04917418066898724, 0.7565258564459576, 0.01891314641114894, 0.01891314641114894, 0.15887042985365107, 0.5624924657356993, 0.05208263571626846, 0.02644195351749014, 0.34054031045252453, 0.018429240330371917, 0.06241949963151801, 0.040389087996864595, 0.7820796130301962, 0.11382379344570931, 0.009700603184554566, 0.8051500643180289, 0.004850301592277283, 0.17946115891425946, 0.852813506101478, 0.008810056881213616, 0.0070480455049708925, 0.04405028440606808, 0.08810056881213615, 0.0343487453529242, 0.7594889250257684, 0.11067929058164463, 0.003816527261436022, 0.09159665427446452, 0.5152473951192602, 0.037971746805841165, 0.10632089105635527, 0.3288937454105935, 0.011099433681707419, 0.042112332754421535, 0.7848207467869468, 0.0038283938867655944, 0.007656787773531189, 0.16079254324415496, 0.17487127652870152, 0.011587855673588655, 0.7848138615294135, 0.0073740899741018716, 0.022122269922305614, 0.0851036639608037, 0.7841694750674055, 0.10637957995100462, 0.0030394165700287036, 0.021275915990200924, 0.9177450974021284, 0.020953084415573708, 0.004190616883114741, 0.039810860389590044, 0.014667159090901596, 0.30845805343746346, 0.10526743093500739, 0.2844668715034385, 0.1537394107608945, 0.14786401926684759, 0.0040371086710412, 0.8639412556028169, 0.1090019341181124, 0.020185543355206, 0.8923268436444728, 0.003109152765311752, 0.07151051360217028, 0.01865491659187051, 0.012436611061247008, 0.9721218221986628, 0.0015300973067135302, 0.0005100324355711767, 0.022951459600702953, 0.0030601946134270605, 0.9824909861086405, 0.0011164670296689098, 0.0005582335148344549, 0.012281137326358008, 0.002791167574172274, 0.0034840020175998833, 0.9755205649279673, 0.0034840020175998833, 0.017420010087999416, 0.030394924635037127, 0.8814528144160767, 0.023640496938362208, 0.0033772138483374584, 0.06416706311841171, 0.015427601980588545, 0.05069069222193379, 0.16529573550630583, 0.2688810630902575, 0.4980911496590016, 0.9296722707628303, 0.0617209806315572, 0.31107641646618023, 0.053657285809668644, 0.2519854814605958, 0.10052251012444252, 0.28254975818762224, 0.9199137545141807, 0.006714698938059713, 0.012310281386442808, 0.044764659587064756, 0.015667630855472663, 0.002379934629200382, 0.003569901943800573, 0.5723742783226919, 0.015469575089802484, 0.40696882159326536, 0.019403571136486636, 0.8860964152328897, 0.08731607011418986, 0.006467857045495545, 0.0017021254185545119, 0.023829755859763168, 0.020425505022654143, 0.21957417899353204, 0.7336160553969946, 0.10084583861314247, 0.16387448774635652, 0.06618008158987475, 0.5798635720255693, 0.08824010878649967, 0.007554316657017735, 0.013220054149781035, 0.670445603310324, 0.12086906651228375, 0.18696933726118894, 0.2766723834652405, 0.4523836164729897, 0.05339291610732711, 0.015532484685767886, 0.20289308120784302, 0.003099793718719638, 0.015498968593598192, 0.7532498736488721, 0.061995874374392766, 0.16738886081086046, 0.02798098162312916, 0.01538953989272104, 0.15949159525183623, 0.49666242381054265, 0.3007955524486385, 0.02935385183343353, 0.8586001661279308, 0.014676925916716765, 0.10273848141701736, 0.5803276806012727, 0.09558854127017563, 0.0670873707079673, 0.10348117311817179, 0.15368708126236955, 0.2547934703938354, 0.6952221835031794, 0.020019486959515637, 0.025479347039383538, 0.005459860079867901, 0.21111694843862505, 0.004589498879100544, 0.21111694843862505, 0.573687359887568, 0.5449580676197008, 0.04616931718815291, 0.2946296310735307, 0.020549349268715458, 0.09367300770544318, 0.7900355367096983, 0.00923580248286219, 0.05990790799694395, 0.13903626980957406, 0.001996930266564798, 0.9154405800230436, 0.007208193543488532, 0.07929012897837386, 0.9928822781668816, 0.0007236751298592432, 0.0021710253895777295, 0.0036183756492962154, 0.0007236751298592432, 0.30638145402321193, 0.21159858900653308, 0.06318857667778591, 0.22822716181647676, 0.19039715867385493, 0.3229652725283616, 0.0721922373886926, 0.08549080743397808, 0.5148446403246235, 0.0037995914415101368, 0.34583190378365886, 0.01246241094715888, 0.043618438315056074, 0.1355287190503528, 0.46266700641327335, 0.1545901124095646, 0.30854405151703224, 0.24747141451572274, 0.06616202341808526, 0.22329682903603776, 0.07385189596689148, 0.24403235189059794, 0.07385189596689148, 0.07064094396833098, 0.5362289837596034, 0.04431048763055844, 0.7473702247020857, 0.04431048763055844, 0.05021855264796623, 0.11520726783945194, 0.7067933819407056, 0.031435573658768826, 0.07503975647577076, 0.1389249545564945, 0.048674436632932375, 0.18672776008802486, 0.37880449247023795, 0.14004582006601865, 0.08850117795838679, 0.20617856843052745, 0.10553743899423507, 0.09894134905709537, 0.02308631477998892, 0.6947881400453808, 0.07805373092281968, 0.1560229024463189, 0.023715481171840472, 0.12606650517662565, 0.16476018498331274, 0.5292296850979137, 0.12386443677521601, 0.052900436539415174, 0.3290149101841675, 0.10967163672805584, 0.3857861103728082, 0.13794689769798274, 0.4231255804390048, 0.1750864470782089, 0.033160311946630466, 0.23013256490961545, 0.015546623934609722, 0.8878849669321552, 0.044912469144428084, 0.031093247869219444, 0.019001429253411882, 0.17173009940857925, 0.2359464538616457, 0.3011357833821829, 0.07248664252656745, 0.21843290264717302, 0.9013045218469978, 0.0025176103962206643, 0.0075528311886619934, 0.06294025990551662, 0.025176103962206646, 0.0919702089159318, 0.34311962557097636, 0.017686578637679192, 0.003537315727535839, 0.5412093063129834, 0.3805934226928169, 0.2712604712827363, 0.03697557540399226, 0.22535975698812521, 0.08574508434201653, 0.33471679024990003, 0.12652524717350172, 0.2737546257026674, 0.02760550847421856, 0.23752239583025553, 0.7511132874793959, 0.003551363061368302, 0.01124598302766629, 0.18467087919115172, 0.049127189015594847, 0.007651027264566789, 0.02142287634078701, 0.7941766300620327, 0.14996013438550906, 0.02601349269952708, 0.30349619068252903, 0.02299213565776735, 0.078173261236409, 0.5885986728388442, 0.00919685426310694, 0.8855618289530747, 0.0039711292778164785, 0.10920605513995316, 0.012497349296439022, 0.8676731082956236, 0.11961748612305921, 0.12648937368319374, 0.10948239907032735, 0.18069910526170535, 0.3667128900899314, 0.21683892631404642, 0.8085983876068865, 0.0031220014965516853, 0.14153073451034306, 0.032260682131034085, 0.014569340317241199, 0.8999325447550901, 0.051558635376593706, 0.04218433803539485, 0.2759439019109239, 0.19016528766558735, 0.18971143256376016, 0.18744215705462428, 0.1565800101303762, 0.0033943529187448872, 0.054309646699918196, 0.7501519950426201, 0.07467576421238752, 0.11540799923732616, 0.8933547338948726, 0.04852086414125507, 0.01712501087338414, 0.022833347831178855, 0.0199791793522815, 0.45211615805884786, 0.2759525255722931, 0.022577933910460344, 0.0735873401526115, 0.17588489256173429, 0.4118087955016987, 0.08387619031434881, 0.25162857094304647, 0.14911322722550902, 0.10368029080523673, 0.3824868017662162, 0.0083756233963405, 0.013959372327234168, 0.5751261398820477, 0.02233499572357467, 0.27627505835197635, 0.04204185670573553, 0.02402391811756316, 0.6336308403507284, 0.02402391811756316, 0.026153247136536228, 0.827393636683146, 0.0023775679215032935, 0.004755135843006587, 0.1402765073686943, 0.12483708566879208, 0.31178523366540684, 0.20785682244360454, 0.12422212465564532, 0.2312253409431814, 0.7015794213672605, 0.03287010032642712, 0.03812931637865546, 0.10886577228112662, 0.11885828278036047, 0.0686613020846489, 0.7537977357895327, 0.019195632840869586, 0.042821027106555234, 0.1159120906160202, 0.3332801705113713, 0.20226963867688805, 0.1274697066497675, 0.21599033626766162, 0.12127326257651493, 0.0008823520373999494, 0.12088222912379307, 0.7623521603135562, 0.0026470561121998484, 0.11294106078719353, 0.10577203756697016, 0.02518381846832623, 0.0948590495640288, 0.15194237142556824, 0.6220403161676579, 0.03438303179932048, 0.05938887310791719, 0.04688595245361884, 0.2594356035766909, 0.6001401914063211, 0.0473631940528436, 0.004985599373983537, 0.8550302926381766, 0.09223358841869543, 0.6261466381910192, 0.11142582937263822, 0.04739755428537596, 0.1704648882193346, 0.044902946165093015, 0.9594893994977, 0.017072765115617436, 0.020487318138740922, 0.9941826986757105, 0.14100575573091317, 0.11750479644242764, 0.03760153486157685, 0.6721274356506861, 0.03290134300387974, 0.140106796587756, 0.8206255228711423, 0.005003814163848428, 0.010007628327696857, 0.025019070819242144, 0.9833891370028603, 0.014115633545495603, 0.2713430926839288, 0.040147702488948646, 0.02768807068203355, 0.639594432754975, 0.019381649477423483, 0.26217889034165387, 0.27371298704027147, 0.13264211203410237, 0.14151449410996206, 0.18986897642339737, 0.1304841657186082, 0.0652420828593041, 0.08698944381240548, 0.6886664301815433, 0.028996481270801823, 0.007137869243767492, 0.13561951563158234, 0.1713088618504198, 0.05710295395013994, 0.6281324934515393, 0.4074303293383033, 0.05179199101758093, 0.035391193862013635, 0.1337959767954174, 0.37117593562599666, 0.22728227901404957, 0.03876721147062384, 0.5868291618690511, 0.07601414013847813, 0.07069315032878465, 0.005760593190887362, 0.10945127062685989, 0.06336652509976098, 0.11521186381774724, 0.7085529624791456, 0.1200855195435579, 0.015494905747555857, 0.08522198161155721, 0.7050182115137915, 0.07747452873777928, 0.09831738596209263, 0.016386230993682104, 0.004096557748420526, 0.8725668004135722, 0.008193115496841052, 0.31544040465058804, 0.10621972809662658, 0.5729427757939252, 0.0032187796392917144, 0.12041713585500267, 0.0083046300589657, 0.8678338411619158, 0.00415231502948285, 0.339446760476383, 0.4071426956141232, 0.05028840895946415, 0.07108073189462721, 0.13249061591243438, 0.18564907473571776, 0.0763746193533016, 0.04464977746808402, 0.562822194926638, 0.12924935582866426, 0.01519317294689432, 0.8963972038667649, 0.01519317294689432, 0.06836927826102444, 0.1361398053334708, 0.018564518909109654, 0.012376345939406437, 0.8323092644250829, 0.21459635187102172, 0.5829431387715864, 0.07523957458892529, 0.051032059286401504, 0.07654808892960226, 0.2227032722522566, 0.024508015606707664, 0.15344148901590887, 0.4283574901694122, 0.17155610924695366, 0.18749064683201194, 0.5992829313661953, 0.1482255899038419, 0.025031473791708402, 0.039755870139772165, 0.15181510047530297, 0.016412443294627346, 0.6688070642560644, 0.1538666558871314, 0.010257777059142091, 0.0327693722300735, 0.6881568168315435, 0.11287228212580873, 0.1638468611503675, 0.0035695802330226348, 0.8757370171682197, 0.004759440310696846, 0.11422656745672431, 0.0018655483156788488, 0.0018655483156788488, 0.0037310966313576976, 0.01678993484110964, 0.973816220784359, 0.30000442423771334, 0.07894853269413508, 0.4308334212737086, 0.15864895617583336, 0.03157941307765404, 0.17360314673952967, 0.0635729833130672, 0.2225054415957352, 0.012225573714051386, 0.5281447844470198, 0.1865550132957361, 0.26581393512947366, 0.38119767167654744, 0.1256280869881691, 0.04097740176438134, 0.14871112623915725, 0.2634481675258818, 0.3176874961341516, 0.12606173627086878, 0.14424085190331085, 0.9591227839413862, 0.034254385140763795, 0.045429290650819125, 0.05754376815770423, 0.05754376815770423, 0.5996666365908125, 0.23623231138425946, 0.15693476835084222, 0.8222497722044128, 0.015472441950083035, 0.002210348850011862, 0.21204463760828765, 0.12087568713902387, 0.35648084003712127, 0.2647997044528616, 0.04584056779212982, 0.9712759066084848, 0.0013089971787176346, 0.0071994844829469905, 0.01963495768076452, 0.0006544985893588173, 0.3841530689478535, 0.11493736400247023, 0.08176752069974393, 0.3448120920074107, 0.07482499535731284, 0.10608170339183634, 0.009945159692984658, 0.016575266154974427, 0.8552837335966805, 0.009945159692984658, 0.003678494519556388, 0.007356989039112776, 0.6437365409223679, 0.09686702234831822, 0.24891146248998225, 0.20088128804128572, 0.009759414803625216, 0.006506276535750144, 0.29440901324269403, 0.4879707401812608, 0.0019303885526630606, 0.8821875685670187, 0.02509505118461979, 0.09072826197516386, 0.01766580514609612, 0.47918496458785725, 0.32681739520277825, 0.02502655729030284, 0.15163149417065838, 0.35297583634387514, 0.20614301795559647, 0.2135167184423441, 0.13753554386150993, 0.09008738420765569, 0.0022004234757294996, 0.3300635213594249, 0.6645278896703088, 0.0022004234757294996, 0.0022004234757294996, 0.07122604948587823, 0.23535564177942372, 0.10529068184868956, 0.027871062842300176, 0.5605180416062591, 0.9751088405522632, 0.0028305046169877016, 0.02122878462740776, 0.0014152523084938508, 0.973332246862572, 0.0022901935220295813, 0.02175683845928102, 0.0022901935220295813, 0.005530427009890637, 0.027652135049453186, 0.9083726363745371, 0.030417348554398503, 0.027652135049453186, 0.036064539938793924, 0.032057368834483485, 0.14025098865086524, 0.7252979698801889, 0.06812190877327741, 0.15244848790008309, 0.054445888535743954, 0.15244848790008309, 0.05989047738931835, 0.5825710073324604, 0.9514480151152187, 0.040776343504937945, 0.950122558211847, 0.0035853681441956487, 0.03585368144195649, 0.010756104432586946, 0.725443735522349, 0.009685497136479959, 0.1898357438750072, 0.07457832795089568, 0.0009685497136479959, 0.2605421153500935, 0.20060144464071614, 0.20699511618304972, 0.03836202925400149, 0.2933096820045531, 0.008501405375067687, 0.05100843225040612, 0.31171819708581516, 0.008501405375067687, 0.617768790588252, 0.007245645513572242, 0.9057056891965303, 0.061587986865364056, 0.021736936540716727, 0.003622822756786121, 0.8816996300281426, 0.006730531526932386, 0.10768850443091818, 0.006730531526932386, 0.02343533432486009, 0.29294167906075114, 0.041011835068505156, 0.6386128603524375, 0.8728515478946253, 0.10856362536002802, 0.0021712725072005603, 0.017370180057604483, 0.4808729612110237, 0.1862150419268201, 0.09201213836384052, 0.14623357704253226, 0.09475059486276434, 0.002137343166885026, 0.18594885551899726, 0.029922804336390364, 0.572807968725187, 0.20732228718784754], \"Term\": [\"accuracy\", \"accuracy\", \"accuracy\", \"accuracy\", \"accuracy\", \"activity\", \"activity\", \"activity\", \"activity\", \"activity\", \"adversarial\", \"adversarial\", \"adversarial\", \"agent\", \"agent\", \"agent\", \"agent\", \"agent\", \"al\", \"al\", \"al\", \"al\", \"algebra\", \"algebra\", \"algebra\", \"algebra\", \"algebraic\", \"algebraic\", \"algebraic\", \"algorithm\", \"algorithm\", \"algorithm\", \"algorithm\", \"algorithm\", \"analysis\", \"analysis\", \"analysis\", \"analysis\", \"analysis\", \"application\", \"application\", \"application\", \"application\", \"application\", \"approach\", \"approach\", \"approach\", \"approach\", \"approach\", \"architecture\", \"architecture\", \"architecture\", \"architecture\", \"architecture\", \"art\", \"art\", \"art\", \"art\", \"art\", \"atomic\", \"atomic\", \"atomic\", \"atomic\", \"background\", \"background\", \"background\", \"background\", \"background\", \"base\", \"base\", \"base\", \"base\", \"base\", \"beam\", \"beam\", \"beam\", \"beam\", \"beam\", \"black\", \"black\", \"black\", \"black\", \"body\", \"body\", \"body\", \"body\", \"body\", \"bound\", \"bound\", \"bound\", \"bound\", \"bound\", \"boundary\", \"boundary\", \"boundary\", \"boundary\", \"boundary\", \"break\", \"break\", \"break\", \"break\", \"break\", \"capability\", \"capability\", \"capability\", \"capability\", \"case\", \"case\", \"case\", \"case\", \"case\", \"category\", \"category\", \"category\", \"category\", \"category\", \"cell\", \"cell\", \"cell\", \"cell\", \"charge\", \"charge\", \"charge\", \"charge\", \"chemical\", \"chemical\", \"chemical\", \"chemical\", \"chemical\", \"class\", \"class\", \"class\", \"class\", \"class\", \"classification\", \"classification\", \"classification\", \"classification\", \"classification\", \"classifier\", \"classifier\", \"classifier\", \"classifier\", \"closed\", \"closed\", \"closed\", \"closed\", \"closed\", \"cluster\", \"cluster\", \"cluster\", \"cluster\", \"cluster\", \"cnn\", \"cnn\", \"code\", \"code\", \"code\", \"code\", \"code\", \"combinatorial\", \"combinatorial\", \"combinatorial\", \"combinatorial\", \"communication\", \"communication\", \"communication\", \"communication\", \"communication\", \"community\", \"community\", \"community\", \"community\", \"community\", \"concentration\", \"concentration\", \"concentration\", \"concentration\", \"condition\", \"condition\", \"condition\", \"condition\", \"condition\", \"conjecture\", \"conjecture\", \"conjecture\", \"conjecture\", \"construction\", \"construction\", \"construction\", \"construction\", \"construction\", \"control\", \"control\", \"control\", \"control\", \"control\", \"convergence\", \"convergence\", \"convergence\", \"convergence\", \"convergence\", \"convex\", \"convex\", \"convex\", \"convex\", \"convolutional\", \"convolutional\", \"correlation\", \"correlation\", \"correlation\", \"correlation\", \"correlation\", \"couple\", \"couple\", \"couple\", \"couple\", \"couple\", \"coupling\", \"coupling\", \"coupling\", \"coupling\", \"crystal\", \"crystal\", \"crystal\", \"d\", \"d\", \"d\", \"d\", \"dark\", \"dark\", \"dark\", \"dark\", \"data\", \"data\", \"data\", \"data\", \"data\", \"dataset\", \"dataset\", \"dataset\", \"dataset\", \"dataset\", \"datum\", \"datum\", \"datum\", \"datum\", \"datum\", \"deep\", \"deep\", \"deep\", \"deep\", \"deep\", \"define\", \"define\", \"define\", \"define\", \"define\", \"demand\", \"demand\", \"demand\", \"demand\", \"demand\", \"demonstrate\", \"demonstrate\", \"demonstrate\", \"demonstrate\", \"demonstrate\", \"density\", \"density\", \"density\", \"density\", \"density\", \"design\", \"design\", \"design\", \"design\", \"design\", \"detection\", \"detection\", \"detection\", \"detection\", \"detection\", \"device\", \"device\", \"device\", \"device\", \"device\", \"diagram\", \"diagram\", \"diagram\", \"diagram\", \"different\", \"different\", \"different\", \"different\", \"different\", \"differential\", \"differential\", \"differential\", \"differential\", \"differential\", \"distribution\", \"distribution\", \"distribution\", \"distribution\", \"distribution\", \"dynamic\", \"dynamic\", \"dynamic\", \"dynamic\", \"dynamic\", \"effect\", \"effect\", \"effect\", \"effect\", \"effect\", \"electron\", \"electron\", \"electron\", \"electron\", \"electronic\", \"electronic\", \"electronic\", \"electronic\", \"electronic\", \"emission\", \"emission\", \"emission\", \"emission\", \"emission\", \"energy\", \"energy\", \"energy\", \"energy\", \"energy\", \"equation\", \"equation\", \"equation\", \"equation\", \"equation\", \"estimate\", \"estimate\", \"estimate\", \"estimate\", \"estimate\", \"estimator\", \"estimator\", \"estimator\", \"estimator\", \"estimator\", \"et\", \"et\", \"et\", \"et\", \"excitation\", \"excitation\", \"excitation\", \"excitation\", \"existence\", \"existence\", \"existence\", \"existence\", \"existence\", \"family\", \"family\", \"family\", \"family\", \"family\", \"feature\", \"feature\", \"feature\", \"feature\", \"feature\", \"feedback\", \"feedback\", \"feedback\", \"feedback\", \"field\", \"field\", \"field\", \"field\", \"field\", \"find\", \"find\", \"find\", \"find\", \"find\", \"finite\", \"finite\", \"finite\", \"finite\", \"finite\", \"flow\", \"flow\", \"flow\", \"flow\", \"flow\", \"fluctuation\", \"fluctuation\", \"fluctuation\", \"fluctuation\", \"fluctuation\", \"formation\", \"formation\", \"formation\", \"formation\", \"formation\", \"formula\", \"formula\", \"formula\", \"formula\", \"frame\", \"frame\", \"frame\", \"frame\", \"framework\", \"framework\", \"framework\", \"framework\", \"framework\", \"frequency\", \"frequency\", \"frequency\", \"frequency\", \"frequency\", \"function\", \"function\", \"function\", \"function\", \"function\", \"future\", \"future\", \"future\", \"future\", \"future\", \"g\", \"g\", \"g\", \"g\", \"g\", \"galaxy\", \"galaxy\", \"galaxy\", \"game\", \"game\", \"game\", \"game\", \"game\", \"gas\", \"gas\", \"gas\", \"gas\", \"general\", \"general\", \"general\", \"general\", \"general\", \"generative\", \"generative\", \"give\", \"give\", \"give\", \"give\", \"give\", \"graph\", \"graph\", \"graph\", \"graph\", \"graph\", \"grid\", \"grid\", \"grid\", \"grid\", \"grid\", \"group\", \"group\", \"group\", \"group\", \"group\", \"growth\", \"growth\", \"growth\", \"growth\", \"growth\", \"hamiltonian\", \"hamiltonian\", \"hamiltonian\", \"high\", \"high\", \"high\", \"high\", \"high\", \"hole\", \"hole\", \"hole\", \"hole\", \"hypothesis\", \"hypothesis\", \"hypothesis\", \"hypothesis\", \"hypothesis\", \"ideal\", \"ideal\", \"ideal\", \"ideal\", \"ideal\", \"image\", \"image\", \"image\", \"image\", \"image\", \"imaging\", \"imaging\", \"imaging\", \"imaging\", \"inequality\", \"inequality\", \"inequality\", \"inequality\", \"inference\", \"inference\", \"inference\", \"inference\", \"inference\", \"infinite\", \"infinite\", \"infinite\", \"infinite\", \"infinite\", \"information\", \"information\", \"information\", \"information\", \"information\", \"integer\", \"integer\", \"integer\", \"integer\", \"integer\", \"interaction\", \"interaction\", \"interaction\", \"interaction\", \"interaction\", \"invariant\", \"invariant\", \"invariant\", \"invariant\", \"invariant\", \"label\", \"label\", \"label\", \"label\", \"label\", \"large\", \"large\", \"large\", \"large\", \"large\", \"laser\", \"laser\", \"laser\", \"laser\", \"latent\", \"latent\", \"latent\", \"latent\", \"latent\", \"learn\", \"learn\", \"learn\", \"learn\", \"learn\", \"learning\", \"learning\", \"learning\", \"learning\", \"learning\", \"let\", \"let\", \"let\", \"let\", \"lie\", \"lie\", \"lie\", \"lie\", \"lie\", \"light\", \"light\", \"light\", \"light\", \"light\", \"liquid\", \"liquid\", \"low\", \"low\", \"low\", \"low\", \"low\", \"machine\", \"machine\", \"machine\", \"machine\", \"machine\", \"magnetic\", \"magnetic\", \"magnetic\", \"magnetic\", \"magnetic\", \"manifold\", \"manifold\", \"manifold\", \"manifold\", \"mass\", \"mass\", \"mass\", \"mass\", \"mass\", \"match\", \"match\", \"match\", \"match\", \"match\", \"material\", \"material\", \"material\", \"material\", \"material\", \"matrix\", \"matrix\", \"matrix\", \"matrix\", \"matrix\", \"matter\", \"matter\", \"matter\", \"matter\", \"matter\", \"measurement\", \"measurement\", \"measurement\", \"measurement\", \"measurement\", \"metal\", \"metal\", \"metal\", \"metal\", \"method\", \"method\", \"method\", \"method\", \"method\", \"metric\", \"metric\", \"metric\", \"metric\", \"metric\", \"mobile\", \"mobile\", \"mobile\", \"mobile\", \"model\", \"model\", \"model\", \"model\", \"model\", \"network\", \"network\", \"network\", \"network\", \"network\", \"networks\", \"networks\", \"networks\", \"neural\", \"neural\", \"neural\", \"neural\", \"neural\", \"new\", \"new\", \"new\", \"new\", \"new\", \"node\", \"node\", \"node\", \"node\", \"node\", \"noise\", \"noise\", \"noise\", \"noise\", \"noise\", \"non\", \"non\", \"non\", \"non\", \"non\", \"normal\", \"normal\", \"normal\", \"normal\", \"normal\", \"notion\", \"notion\", \"notion\", \"notion\", \"notion\", \"novel\", \"novel\", \"novel\", \"novel\", \"novel\", \"number\", \"number\", \"number\", \"number\", \"number\", \"object\", \"object\", \"object\", \"object\", \"object\", \"observation\", \"observation\", \"observation\", \"observation\", \"observation\", \"observe\", \"observe\", \"observe\", \"observe\", \"observe\", \"obtain\", \"obtain\", \"obtain\", \"obtain\", \"obtain\", \"operator\", \"operator\", \"operator\", \"operator\", \"operator\", \"order\", \"order\", \"order\", \"order\", \"order\", \"outperform\", \"outperform\", \"outperform\", \"outperform\", \"outperform\", \"p\", \"p\", \"p\", \"p\", \"p\", \"paper\", \"paper\", \"paper\", \"paper\", \"paper\", \"parameter\", \"parameter\", \"parameter\", \"parameter\", \"parameter\", \"performance\", \"performance\", \"performance\", \"performance\", \"performance\", \"phase\", \"phase\", \"phase\", \"phase\", \"phase\", \"platform\", \"platform\", \"platform\", \"platform\", \"platform\", \"policy\", \"policy\", \"policy\", \"polynomial\", \"polynomial\", \"polynomial\", \"power\", \"power\", \"power\", \"power\", \"power\", \"prediction\", \"prediction\", \"prediction\", \"prediction\", \"prediction\", \"predictive\", \"predictive\", \"predictive\", \"present\", \"present\", \"present\", \"present\", \"present\", \"pressure\", \"pressure\", \"pressure\", \"pressure\", \"pressure\", \"prior\", \"prior\", \"prior\", \"prior\", \"prior\", \"problem\", \"problem\", \"problem\", \"problem\", \"problem\", \"process\", \"process\", \"process\", \"process\", \"process\", \"processing\", \"processing\", \"processing\", \"processing\", \"processing\", \"project\", \"project\", \"project\", \"project\", \"project\", \"proof\", \"proof\", \"proof\", \"proof\", \"proof\", \"property\", \"property\", \"property\", \"property\", \"property\", \"propose\", \"propose\", \"propose\", \"propose\", \"propose\", \"prove\", \"prove\", \"prove\", \"prove\", \"prove\", \"provide\", \"provide\", \"provide\", \"provide\", \"provide\", \"quantum\", \"quantum\", \"quantum\", \"quantum\", \"quantum\", \"rate\", \"rate\", \"rate\", \"rate\", \"rate\", \"ratio\", \"ratio\", \"ratio\", \"ratio\", \"ratio\", \"ray\", \"ray\", \"ray\", \"ray\", \"real\", \"real\", \"real\", \"real\", \"real\", \"recognition\", \"recognition\", \"recognition\", \"recurrent\", \"reference\", \"reference\", \"reference\", \"reference\", \"reference\", \"regular\", \"regular\", \"regular\", \"regular\", \"regular\", \"reinforcement\", \"reinforcement\", \"research\", \"research\", \"research\", \"research\", \"research\", \"result\", \"result\", \"result\", \"result\", \"result\", \"review\", \"review\", \"review\", \"review\", \"review\", \"s\", \"s\", \"s\", \"s\", \"s\", \"sample\", \"sample\", \"sample\", \"sample\", \"sample\", \"scale\", \"scale\", \"scale\", \"scale\", \"scale\", \"scatter\", \"scatter\", \"scatter\", \"scatter\", \"scatter\", \"science\", \"science\", \"science\", \"science\", \"science\", \"scientific\", \"scientific\", \"scientific\", \"scientific\", \"scientific\", \"sensor\", \"sensor\", \"sensor\", \"sensor\", \"service\", \"service\", \"service\", \"service\", \"set\", \"set\", \"set\", \"set\", \"set\", \"signal\", \"signal\", \"signal\", \"signal\", \"signal\", \"singular\", \"singular\", \"singular\", \"singular\", \"software\", \"software\", \"software\", \"software\", \"solution\", \"solution\", \"solution\", \"solution\", \"solution\", \"source\", \"source\", \"source\", \"source\", \"source\", \"space\", \"space\", \"space\", \"space\", \"space\", \"spatial\", \"spatial\", \"spatial\", \"spatial\", \"spatial\", \"spectra\", \"spectra\", \"spectra\", \"spectra\", \"spin\", \"spin\", \"spin\", \"spin\", \"star\", \"star\", \"star\", \"star\", \"star\", \"state\", \"state\", \"state\", \"state\", \"state\", \"statistic\", \"statistic\", \"statistic\", \"statistic\", \"statistic\", \"structure\", \"structure\", \"structure\", \"structure\", \"structure\", \"study\", \"study\", \"study\", \"study\", \"study\", \"supervised\", \"supervised\", \"survey\", \"survey\", \"survey\", \"survey\", \"survey\", \"symmetry\", \"symmetry\", \"symmetry\", \"symmetry\", \"system\", \"system\", \"system\", \"system\", \"system\", \"task\", \"task\", \"task\", \"task\", \"task\", \"technique\", \"technique\", \"technique\", \"technique\", \"technique\", \"technology\", \"technology\", \"technology\", \"technology\", \"technology\", \"temperature\", \"temperature\", \"temperature\", \"temperature\", \"temperature\", \"test\", \"test\", \"test\", \"test\", \"test\", \"theorem\", \"theorem\", \"theorem\", \"theorem\", \"theory\", \"theory\", \"theory\", \"theory\", \"theory\", \"time\", \"time\", \"time\", \"time\", \"time\", \"topological\", \"topological\", \"topological\", \"topological\", \"topological\", \"total\", \"total\", \"total\", \"total\", \"total\", \"train\", \"train\", \"train\", \"train\", \"training\", \"training\", \"training\", \"training\", \"transition\", \"transition\", \"transition\", \"transition\", \"transition\", \"transmission\", \"transmission\", \"transmission\", \"transmission\", \"transmission\", \"treatment\", \"treatment\", \"treatment\", \"treatment\", \"treatment\", \"unsupervised\", \"unsupervised\", \"update\", \"update\", \"update\", \"update\", \"user\", \"user\", \"user\", \"user\", \"user\", \"value\", \"value\", \"value\", \"value\", \"value\", \"velocity\", \"velocity\", \"velocity\", \"velocity\", \"velocity\", \"vertex\", \"vertex\", \"vertex\", \"vertex\", \"vertex\", \"vision\", \"vision\", \"vision\", \"vision\", \"wavelength\", \"wavelength\", \"wavelength\", \"wavelength\", \"word\", \"word\", \"word\", \"word\", \"work\", \"work\", \"work\", \"work\", \"work\", \"x\", \"x\", \"x\", \"x\", \"x\"]}, \"R\": 30, \"lambda.step\": 0.01, \"plot.opts\": {\"xlab\": \"PC1\", \"ylab\": \"PC2\"}, \"topic.order\": [3, 5, 2, 1, 4]};\n",
       "\n",
       "function LDAvis_load_lib(url, callback){\n",
       "  var s = document.createElement('script');\n",
       "  s.src = url;\n",
       "  s.async = true;\n",
       "  s.onreadystatechange = s.onload = callback;\n",
       "  s.onerror = function(){console.warn(\"failed to load library \" + url);};\n",
       "  document.getElementsByTagName(\"head\")[0].appendChild(s);\n",
       "}\n",
       "\n",
       "if(typeof(LDAvis) !== \"undefined\"){\n",
       "   // already loaded: just create the visualization\n",
       "   !function(LDAvis){\n",
       "       new LDAvis(\"#\" + \"ldavis_el10604416991752957921792102775\", ldavis_el10604416991752957921792102775_data);\n",
       "   }(LDAvis);\n",
       "}else if(typeof define === \"function\" && define.amd){\n",
       "   // require.js is available: use it to load d3/LDAvis\n",
       "   require.config({paths: {d3: \"https://d3js.org/d3.v5\"}});\n",
       "   require([\"d3\"], function(d3){\n",
       "      window.d3 = d3;\n",
       "      LDAvis_load_lib(\"https://cdn.jsdelivr.net/gh/bmabey/pyLDAvis@3.3.1/pyLDAvis/js/ldavis.v3.0.0.js\", function(){\n",
       "        new LDAvis(\"#\" + \"ldavis_el10604416991752957921792102775\", ldavis_el10604416991752957921792102775_data);\n",
       "      });\n",
       "    });\n",
       "}else{\n",
       "    // require.js not available: dynamically load d3 & LDAvis\n",
       "    LDAvis_load_lib(\"https://d3js.org/d3.v5.js\", function(){\n",
       "         LDAvis_load_lib(\"https://cdn.jsdelivr.net/gh/bmabey/pyLDAvis@3.3.1/pyLDAvis/js/ldavis.v3.0.0.js\", function(){\n",
       "                 new LDAvis(\"#\" + \"ldavis_el10604416991752957921792102775\", ldavis_el10604416991752957921792102775_data);\n",
       "            })\n",
       "         });\n",
       "}\n",
       "</script>"
      ],
      "text/plain": [
       "<IPython.core.display.HTML object>"
      ]
     },
     "execution_count": 94,
     "metadata": {},
     "output_type": "execute_result"
    }
   ],
   "source": [
    "lda_display = pyLDAvis.gensim_models.prepare(lda_model, corpus, dictionary)\n",
    "pyLDAvis.display(lda_display)"
   ]
  },
  {
   "cell_type": "code",
   "execution_count": 95,
   "id": "f790924c",
   "metadata": {},
   "outputs": [],
   "source": [
    "df['topic'] = [sorted(lda_model[corpus][text])[0][0] for text in range(len(df[\"ABSTRACT\"]))]"
   ]
  },
  {
   "cell_type": "code",
   "execution_count": 96,
   "id": "944cc540",
   "metadata": {},
   "outputs": [
    {
     "data": {
      "text/html": [
       "<div>\n",
       "<style scoped>\n",
       "    .dataframe tbody tr th:only-of-type {\n",
       "        vertical-align: middle;\n",
       "    }\n",
       "\n",
       "    .dataframe tbody tr th {\n",
       "        vertical-align: top;\n",
       "    }\n",
       "\n",
       "    .dataframe thead th {\n",
       "        text-align: right;\n",
       "    }\n",
       "</style>\n",
       "<table border=\"1\" class=\"dataframe\">\n",
       "  <thead>\n",
       "    <tr style=\"text-align: right;\">\n",
       "      <th></th>\n",
       "      <th>ID</th>\n",
       "      <th>TITLE</th>\n",
       "      <th>ABSTRACT</th>\n",
       "      <th>cleaned</th>\n",
       "      <th>topic</th>\n",
       "    </tr>\n",
       "  </thead>\n",
       "  <tbody>\n",
       "    <tr>\n",
       "      <th>0</th>\n",
       "      <td>20973</td>\n",
       "      <td>Closed-form Marginal Likelihood in Gamma-Poiss...</td>\n",
       "      <td>We present novel understandings of the Gamma...</td>\n",
       "      <td>[present, novel, understanding, gamma, poisson...</td>\n",
       "      <td>2</td>\n",
       "    </tr>\n",
       "    <tr>\n",
       "      <th>1</th>\n",
       "      <td>20974</td>\n",
       "      <td>Laboratory mid-IR spectra of equilibrated and ...</td>\n",
       "      <td>Meteorites contain minerals from Solar Syste...</td>\n",
       "      <td>[meteorites, contain, mineral, solar, system, ...</td>\n",
       "      <td>0</td>\n",
       "    </tr>\n",
       "    <tr>\n",
       "      <th>2</th>\n",
       "      <td>20975</td>\n",
       "      <td>Case For Static AMSDU Aggregation in WLANs</td>\n",
       "      <td>Frame aggregation is a mechanism by which mu...</td>\n",
       "      <td>[frame, aggregation, mechanism, multiple, fram...</td>\n",
       "      <td>0</td>\n",
       "    </tr>\n",
       "    <tr>\n",
       "      <th>3</th>\n",
       "      <td>20976</td>\n",
       "      <td>The $Gaia$-ESO Survey: the inner disk intermed...</td>\n",
       "      <td>Milky Way open clusters are very diverse in ...</td>\n",
       "      <td>[milky, way, open, cluster, diverse, term, age...</td>\n",
       "      <td>0</td>\n",
       "    </tr>\n",
       "    <tr>\n",
       "      <th>4</th>\n",
       "      <td>20977</td>\n",
       "      <td>Witness-Functions versus Interpretation-Functi...</td>\n",
       "      <td>Proving that a cryptographic protocol is cor...</td>\n",
       "      <td>[prove, cryptographic, protocol, correct, secr...</td>\n",
       "      <td>2</td>\n",
       "    </tr>\n",
       "    <tr>\n",
       "      <th>5</th>\n",
       "      <td>20978</td>\n",
       "      <td>Pairwise Difference Estimation of High Dimensi...</td>\n",
       "      <td>This paper proposes a regularized pairwise d...</td>\n",
       "      <td>[paper, propose, regularized, pairwise, differ...</td>\n",
       "      <td>2</td>\n",
       "    </tr>\n",
       "    <tr>\n",
       "      <th>6</th>\n",
       "      <td>20979</td>\n",
       "      <td>Dissecting the multivariate extremal index and...</td>\n",
       "      <td>A central issue in the theory of extreme val...</td>\n",
       "      <td>[central, issue, theory, extreme, value, focus...</td>\n",
       "      <td>1</td>\n",
       "    </tr>\n",
       "    <tr>\n",
       "      <th>7</th>\n",
       "      <td>20980</td>\n",
       "      <td>Big Universe, Big Data: Machine Learning and I...</td>\n",
       "      <td>Astrophysics and cosmology are rich with dat...</td>\n",
       "      <td>[astrophysics, cosmology, rich, datum, advent,...</td>\n",
       "      <td>0</td>\n",
       "    </tr>\n",
       "    <tr>\n",
       "      <th>8</th>\n",
       "      <td>20981</td>\n",
       "      <td>Natural Language Does Not Emerge 'Naturally' i...</td>\n",
       "      <td>A number of recent works have proposed techn...</td>\n",
       "      <td>[number, recent, work, propose, technique, end...</td>\n",
       "      <td>0</td>\n",
       "    </tr>\n",
       "    <tr>\n",
       "      <th>9</th>\n",
       "      <td>20982</td>\n",
       "      <td>Properties and Origin of Galaxy Velocity Bias ...</td>\n",
       "      <td>We use the hydrodynamical galaxy formation s...</td>\n",
       "      <td>[use, hydrodynamical, galaxy, formation, simul...</td>\n",
       "      <td>1</td>\n",
       "    </tr>\n",
       "    <tr>\n",
       "      <th>10</th>\n",
       "      <td>20983</td>\n",
       "      <td>Computer Modeling of Halogen Bonds and Other $...</td>\n",
       "      <td>In the field of noncovalent interactions a n...</td>\n",
       "      <td>[field, noncovalent, interaction, new, paradig...</td>\n",
       "      <td>0</td>\n",
       "    </tr>\n",
       "    <tr>\n",
       "      <th>11</th>\n",
       "      <td>20984</td>\n",
       "      <td>Towards Universal End-to-End Affect Recognitio...</td>\n",
       "      <td>We propose an end-to-end affect recognition ...</td>\n",
       "      <td>[propose, end, end, affect, recognition, appro...</td>\n",
       "      <td>0</td>\n",
       "    </tr>\n",
       "    <tr>\n",
       "      <th>12</th>\n",
       "      <td>20985</td>\n",
       "      <td>A Variational Characterization of Fluid Sloshi...</td>\n",
       "      <td>We consider the sloshing problem for an inco...</td>\n",
       "      <td>[consider, sloshing, problem, incompressible, ...</td>\n",
       "      <td>1</td>\n",
       "    </tr>\n",
       "    <tr>\n",
       "      <th>13</th>\n",
       "      <td>20986</td>\n",
       "      <td>diagnoseIT: Expertengestützte automatische Dia...</td>\n",
       "      <td>This is the final report of the collaborativ...</td>\n",
       "      <td>[final, report, collaborative, research, proje...</td>\n",
       "      <td>0</td>\n",
       "    </tr>\n",
       "    <tr>\n",
       "      <th>14</th>\n",
       "      <td>20987</td>\n",
       "      <td>Statistical Inference in Political Networks Re...</td>\n",
       "      <td>Researchers interested in statistically mode...</td>\n",
       "      <td>[researcher, interested, model, network, datum...</td>\n",
       "      <td>0</td>\n",
       "    </tr>\n",
       "    <tr>\n",
       "      <th>15</th>\n",
       "      <td>20988</td>\n",
       "      <td>Controller-jammer game models of Denial of Ser...</td>\n",
       "      <td>The paper introduces a class of zero-sum gam...</td>\n",
       "      <td>[paper, introduce, class, sum, game, adversary...</td>\n",
       "      <td>0</td>\n",
       "    </tr>\n",
       "    <tr>\n",
       "      <th>16</th>\n",
       "      <td>20989</td>\n",
       "      <td>Conservation of spin supercurrents in supercon...</td>\n",
       "      <td>We demonstrate that spin supercurrents are c...</td>\n",
       "      <td>[demonstrate, spin, supercurrent, conserve, tr...</td>\n",
       "      <td>1</td>\n",
       "    </tr>\n",
       "    <tr>\n",
       "      <th>17</th>\n",
       "      <td>20990</td>\n",
       "      <td>Driver Identification Using Automobile Sensor ...</td>\n",
       "      <td>As automotive electronics continue to advanc...</td>\n",
       "      <td>[automotive, electronic, continue, advance, ca...</td>\n",
       "      <td>0</td>\n",
       "    </tr>\n",
       "    <tr>\n",
       "      <th>18</th>\n",
       "      <td>20991</td>\n",
       "      <td>Same-different problems strain convolutional n...</td>\n",
       "      <td>The robust and efficient recognition of visu...</td>\n",
       "      <td>[robust, efficient, recognition, visual, relat...</td>\n",
       "      <td>2</td>\n",
       "    </tr>\n",
       "    <tr>\n",
       "      <th>19</th>\n",
       "      <td>20992</td>\n",
       "      <td>Hyper-dimensional computing for a visual quest...</td>\n",
       "      <td>In this work we propose a system for visual ...</td>\n",
       "      <td>[work, propose, system, visual, question, answ...</td>\n",
       "      <td>0</td>\n",
       "    </tr>\n",
       "    <tr>\n",
       "      <th>20</th>\n",
       "      <td>20993</td>\n",
       "      <td>The Inner Structure of Time-Dependent Signals</td>\n",
       "      <td>This paper shows how a time series of measur...</td>\n",
       "      <td>[paper, show, time, series, measurement, evolv...</td>\n",
       "      <td>0</td>\n",
       "    </tr>\n",
       "    <tr>\n",
       "      <th>21</th>\n",
       "      <td>20994</td>\n",
       "      <td>Classical properties of the leading eigenstate...</td>\n",
       "      <td>By analyzing a paradigmatic example of the t...</td>\n",
       "      <td>[analyze, paradigmatic, example, theory, dissi...</td>\n",
       "      <td>1</td>\n",
       "    </tr>\n",
       "    <tr>\n",
       "      <th>22</th>\n",
       "      <td>20995</td>\n",
       "      <td>Towards Binary-Valued Gates for Robust LSTM Tr...</td>\n",
       "      <td>Long Short-Term Memory (LSTM) is one of the ...</td>\n",
       "      <td>[long, short, term, memory, lstm, recurrent, s...</td>\n",
       "      <td>2</td>\n",
       "    </tr>\n",
       "    <tr>\n",
       "      <th>23</th>\n",
       "      <td>20996</td>\n",
       "      <td>GUB Covers and Power-Indexed formulations for ...</td>\n",
       "      <td>We propose a pure 0-1 formulation for the wi...</td>\n",
       "      <td>[propose, pure, formulation, wireless, network...</td>\n",
       "      <td>0</td>\n",
       "    </tr>\n",
       "    <tr>\n",
       "      <th>24</th>\n",
       "      <td>20997</td>\n",
       "      <td>Orbital contributions to the electron g-factor...</td>\n",
       "      <td>Recent experiments on Majorana fermions in s...</td>\n",
       "      <td>[recent, experiment, majorana, fermion, semico...</td>\n",
       "      <td>1</td>\n",
       "    </tr>\n",
       "  </tbody>\n",
       "</table>\n",
       "</div>"
      ],
      "text/plain": [
       "       ID                                              TITLE  \\\n",
       "0   20973  Closed-form Marginal Likelihood in Gamma-Poiss...   \n",
       "1   20974  Laboratory mid-IR spectra of equilibrated and ...   \n",
       "2   20975         Case For Static AMSDU Aggregation in WLANs   \n",
       "3   20976  The $Gaia$-ESO Survey: the inner disk intermed...   \n",
       "4   20977  Witness-Functions versus Interpretation-Functi...   \n",
       "5   20978  Pairwise Difference Estimation of High Dimensi...   \n",
       "6   20979  Dissecting the multivariate extremal index and...   \n",
       "7   20980  Big Universe, Big Data: Machine Learning and I...   \n",
       "8   20981  Natural Language Does Not Emerge 'Naturally' i...   \n",
       "9   20982  Properties and Origin of Galaxy Velocity Bias ...   \n",
       "10  20983  Computer Modeling of Halogen Bonds and Other $...   \n",
       "11  20984  Towards Universal End-to-End Affect Recognitio...   \n",
       "12  20985  A Variational Characterization of Fluid Sloshi...   \n",
       "13  20986  diagnoseIT: Expertengestützte automatische Dia...   \n",
       "14  20987  Statistical Inference in Political Networks Re...   \n",
       "15  20988  Controller-jammer game models of Denial of Ser...   \n",
       "16  20989  Conservation of spin supercurrents in supercon...   \n",
       "17  20990  Driver Identification Using Automobile Sensor ...   \n",
       "18  20991  Same-different problems strain convolutional n...   \n",
       "19  20992  Hyper-dimensional computing for a visual quest...   \n",
       "20  20993      The Inner Structure of Time-Dependent Signals   \n",
       "21  20994  Classical properties of the leading eigenstate...   \n",
       "22  20995  Towards Binary-Valued Gates for Robust LSTM Tr...   \n",
       "23  20996  GUB Covers and Power-Indexed formulations for ...   \n",
       "24  20997  Orbital contributions to the electron g-factor...   \n",
       "\n",
       "                                             ABSTRACT  \\\n",
       "0     We present novel understandings of the Gamma...   \n",
       "1     Meteorites contain minerals from Solar Syste...   \n",
       "2     Frame aggregation is a mechanism by which mu...   \n",
       "3     Milky Way open clusters are very diverse in ...   \n",
       "4     Proving that a cryptographic protocol is cor...   \n",
       "5     This paper proposes a regularized pairwise d...   \n",
       "6     A central issue in the theory of extreme val...   \n",
       "7     Astrophysics and cosmology are rich with dat...   \n",
       "8     A number of recent works have proposed techn...   \n",
       "9     We use the hydrodynamical galaxy formation s...   \n",
       "10    In the field of noncovalent interactions a n...   \n",
       "11    We propose an end-to-end affect recognition ...   \n",
       "12    We consider the sloshing problem for an inco...   \n",
       "13    This is the final report of the collaborativ...   \n",
       "14    Researchers interested in statistically mode...   \n",
       "15    The paper introduces a class of zero-sum gam...   \n",
       "16    We demonstrate that spin supercurrents are c...   \n",
       "17    As automotive electronics continue to advanc...   \n",
       "18    The robust and efficient recognition of visu...   \n",
       "19    In this work we propose a system for visual ...   \n",
       "20    This paper shows how a time series of measur...   \n",
       "21    By analyzing a paradigmatic example of the t...   \n",
       "22    Long Short-Term Memory (LSTM) is one of the ...   \n",
       "23    We propose a pure 0-1 formulation for the wi...   \n",
       "24    Recent experiments on Majorana fermions in s...   \n",
       "\n",
       "                                              cleaned  topic  \n",
       "0   [present, novel, understanding, gamma, poisson...      2  \n",
       "1   [meteorites, contain, mineral, solar, system, ...      0  \n",
       "2   [frame, aggregation, mechanism, multiple, fram...      0  \n",
       "3   [milky, way, open, cluster, diverse, term, age...      0  \n",
       "4   [prove, cryptographic, protocol, correct, secr...      2  \n",
       "5   [paper, propose, regularized, pairwise, differ...      2  \n",
       "6   [central, issue, theory, extreme, value, focus...      1  \n",
       "7   [astrophysics, cosmology, rich, datum, advent,...      0  \n",
       "8   [number, recent, work, propose, technique, end...      0  \n",
       "9   [use, hydrodynamical, galaxy, formation, simul...      1  \n",
       "10  [field, noncovalent, interaction, new, paradig...      0  \n",
       "11  [propose, end, end, affect, recognition, appro...      0  \n",
       "12  [consider, sloshing, problem, incompressible, ...      1  \n",
       "13  [final, report, collaborative, research, proje...      0  \n",
       "14  [researcher, interested, model, network, datum...      0  \n",
       "15  [paper, introduce, class, sum, game, adversary...      0  \n",
       "16  [demonstrate, spin, supercurrent, conserve, tr...      1  \n",
       "17  [automotive, electronic, continue, advance, ca...      0  \n",
       "18  [robust, efficient, recognition, visual, relat...      2  \n",
       "19  [work, propose, system, visual, question, answ...      0  \n",
       "20  [paper, show, time, series, measurement, evolv...      0  \n",
       "21  [analyze, paradigmatic, example, theory, dissi...      1  \n",
       "22  [long, short, term, memory, lstm, recurrent, s...      2  \n",
       "23  [propose, pure, formulation, wireless, network...      0  \n",
       "24  [recent, experiment, majorana, fermion, semico...      1  "
      ]
     },
     "execution_count": 96,
     "metadata": {},
     "output_type": "execute_result"
    }
   ],
   "source": [
    "df.head(25)"
   ]
  },
  {
   "cell_type": "code",
   "execution_count": 97,
   "id": "59868409",
   "metadata": {},
   "outputs": [
    {
     "data": {
      "text/plain": [
       "0    3899\n",
       "1    2121\n",
       "2    1861\n",
       "4     762\n",
       "3     346\n",
       "Name: topic, dtype: int64"
      ]
     },
     "execution_count": 97,
     "metadata": {},
     "output_type": "execute_result"
    }
   ],
   "source": [
    "df.topic.value_counts()"
   ]
  },
  {
   "cell_type": "code",
   "execution_count": null,
   "id": "8d4e71c3",
   "metadata": {},
   "outputs": [],
   "source": []
  }
 ],
 "metadata": {
  "kernelspec": {
   "display_name": "Python (topic-modeling)",
   "language": "python",
   "name": "topic-modeling"
  },
  "language_info": {
   "codemirror_mode": {
    "name": "ipython",
    "version": 3
   },
   "file_extension": ".py",
   "mimetype": "text/x-python",
   "name": "python",
   "nbconvert_exporter": "python",
   "pygments_lexer": "ipython3",
   "version": "3.8.11"
  }
 },
 "nbformat": 4,
 "nbformat_minor": 5
}
